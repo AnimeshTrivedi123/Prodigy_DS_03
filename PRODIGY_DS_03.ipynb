{
 "cells": [
  {
   "cell_type": "code",
   "execution_count": 1,
   "metadata": {
    "id": "XvUb9a07X3XK",
    "tags": []
   },
   "outputs": [],
   "source": [
    "import pandas as pd\n",
    "import numpy as np\n",
    "import matplotlib.pyplot as plt\n",
    "import seaborn as sns\n",
    "from sklearn.cluster import KMeans\n",
    "from sklearn import datasets\n",
    "from io import StringIO\n",
    "from sklearn.tree import export_graphviz\n",
    "from sklearn.model_selection import train_test_split\n",
    "from sklearn import tree\n",
    "from sklearn import metrics\n",
    "%matplotlib inline"
   ]
  },
  {
   "cell_type": "code",
   "execution_count": 2,
   "metadata": {
    "colab": {
     "base_uri": "https://localhost:8080/",
     "height": 226
    },
    "id": "kO6zzeOCacF0",
    "outputId": "7f634311-49a3-447d-c365-c0ed54e45e09",
    "tags": []
   },
   "outputs": [
    {
     "data": {
      "text/html": [
       "<div>\n",
       "<style scoped>\n",
       "    .dataframe tbody tr th:only-of-type {\n",
       "        vertical-align: middle;\n",
       "    }\n",
       "\n",
       "    .dataframe tbody tr th {\n",
       "        vertical-align: top;\n",
       "    }\n",
       "\n",
       "    .dataframe thead th {\n",
       "        text-align: right;\n",
       "    }\n",
       "</style>\n",
       "<table border=\"1\" class=\"dataframe\">\n",
       "  <thead>\n",
       "    <tr style=\"text-align: right;\">\n",
       "      <th></th>\n",
       "      <th>age</th>\n",
       "      <th>job</th>\n",
       "      <th>marital</th>\n",
       "      <th>education</th>\n",
       "      <th>default</th>\n",
       "      <th>balance</th>\n",
       "      <th>housing</th>\n",
       "      <th>loan</th>\n",
       "      <th>contact</th>\n",
       "      <th>day</th>\n",
       "      <th>month</th>\n",
       "      <th>duration</th>\n",
       "      <th>campaign</th>\n",
       "      <th>pdays</th>\n",
       "      <th>previous</th>\n",
       "      <th>poutcome</th>\n",
       "      <th>deposit</th>\n",
       "    </tr>\n",
       "  </thead>\n",
       "  <tbody>\n",
       "    <tr>\n",
       "      <th>0</th>\n",
       "      <td>59</td>\n",
       "      <td>admin.</td>\n",
       "      <td>married</td>\n",
       "      <td>secondary</td>\n",
       "      <td>no</td>\n",
       "      <td>2343</td>\n",
       "      <td>yes</td>\n",
       "      <td>no</td>\n",
       "      <td>unknown</td>\n",
       "      <td>5</td>\n",
       "      <td>may</td>\n",
       "      <td>1042</td>\n",
       "      <td>1</td>\n",
       "      <td>-1</td>\n",
       "      <td>0</td>\n",
       "      <td>unknown</td>\n",
       "      <td>yes</td>\n",
       "    </tr>\n",
       "    <tr>\n",
       "      <th>1</th>\n",
       "      <td>56</td>\n",
       "      <td>admin.</td>\n",
       "      <td>married</td>\n",
       "      <td>secondary</td>\n",
       "      <td>no</td>\n",
       "      <td>45</td>\n",
       "      <td>no</td>\n",
       "      <td>no</td>\n",
       "      <td>unknown</td>\n",
       "      <td>5</td>\n",
       "      <td>may</td>\n",
       "      <td>1467</td>\n",
       "      <td>1</td>\n",
       "      <td>-1</td>\n",
       "      <td>0</td>\n",
       "      <td>unknown</td>\n",
       "      <td>yes</td>\n",
       "    </tr>\n",
       "    <tr>\n",
       "      <th>2</th>\n",
       "      <td>41</td>\n",
       "      <td>technician</td>\n",
       "      <td>married</td>\n",
       "      <td>secondary</td>\n",
       "      <td>no</td>\n",
       "      <td>1270</td>\n",
       "      <td>yes</td>\n",
       "      <td>no</td>\n",
       "      <td>unknown</td>\n",
       "      <td>5</td>\n",
       "      <td>may</td>\n",
       "      <td>1389</td>\n",
       "      <td>1</td>\n",
       "      <td>-1</td>\n",
       "      <td>0</td>\n",
       "      <td>unknown</td>\n",
       "      <td>yes</td>\n",
       "    </tr>\n",
       "    <tr>\n",
       "      <th>3</th>\n",
       "      <td>55</td>\n",
       "      <td>services</td>\n",
       "      <td>married</td>\n",
       "      <td>secondary</td>\n",
       "      <td>no</td>\n",
       "      <td>2476</td>\n",
       "      <td>yes</td>\n",
       "      <td>no</td>\n",
       "      <td>unknown</td>\n",
       "      <td>5</td>\n",
       "      <td>may</td>\n",
       "      <td>579</td>\n",
       "      <td>1</td>\n",
       "      <td>-1</td>\n",
       "      <td>0</td>\n",
       "      <td>unknown</td>\n",
       "      <td>yes</td>\n",
       "    </tr>\n",
       "    <tr>\n",
       "      <th>4</th>\n",
       "      <td>54</td>\n",
       "      <td>admin.</td>\n",
       "      <td>married</td>\n",
       "      <td>tertiary</td>\n",
       "      <td>no</td>\n",
       "      <td>184</td>\n",
       "      <td>no</td>\n",
       "      <td>no</td>\n",
       "      <td>unknown</td>\n",
       "      <td>5</td>\n",
       "      <td>may</td>\n",
       "      <td>673</td>\n",
       "      <td>2</td>\n",
       "      <td>-1</td>\n",
       "      <td>0</td>\n",
       "      <td>unknown</td>\n",
       "      <td>yes</td>\n",
       "    </tr>\n",
       "  </tbody>\n",
       "</table>\n",
       "</div>"
      ],
      "text/plain": [
       "   age         job  marital  education default  balance housing loan  contact  \\\n",
       "0   59      admin.  married  secondary      no     2343     yes   no  unknown   \n",
       "1   56      admin.  married  secondary      no       45      no   no  unknown   \n",
       "2   41  technician  married  secondary      no     1270     yes   no  unknown   \n",
       "3   55    services  married  secondary      no     2476     yes   no  unknown   \n",
       "4   54      admin.  married   tertiary      no      184      no   no  unknown   \n",
       "\n",
       "   day month  duration  campaign  pdays  previous poutcome deposit  \n",
       "0    5   may      1042         1     -1         0  unknown     yes  \n",
       "1    5   may      1467         1     -1         0  unknown     yes  \n",
       "2    5   may      1389         1     -1         0  unknown     yes  \n",
       "3    5   may       579         1     -1         0  unknown     yes  \n",
       "4    5   may       673         2     -1         0  unknown     yes  "
      ]
     },
     "execution_count": 2,
     "metadata": {},
     "output_type": "execute_result"
    }
   ],
   "source": [
    "# Load data file\n",
    "bank=pd.read_csv(\"C:\\\\Users\\\\LENOVO\\\\Downloads\\\\bank.csv\")\n",
    "bank.head()"
   ]
  },
  {
   "cell_type": "code",
   "execution_count": 3,
   "metadata": {
    "colab": {
     "base_uri": "https://localhost:8080/"
    },
    "id": "7-OiKgQjawIP",
    "outputId": "617ba522-71b9-4cd7-bfdf-4a8e09f01353",
    "tags": []
   },
   "outputs": [
    {
     "data": {
      "text/plain": [
       "age          0\n",
       "job          0\n",
       "marital      0\n",
       "education    0\n",
       "default      0\n",
       "balance      0\n",
       "housing      0\n",
       "loan         0\n",
       "contact      0\n",
       "day          0\n",
       "month        0\n",
       "duration     0\n",
       "campaign     0\n",
       "pdays        0\n",
       "previous     0\n",
       "poutcome     0\n",
       "deposit      0\n",
       "dtype: int64"
      ]
     },
     "execution_count": 3,
     "metadata": {},
     "output_type": "execute_result"
    }
   ],
   "source": [
    "# Check if the data set contains any null values - Nothing found!\n",
    "bank[bank.isnull().any(axis=1)].count()"
   ]
  },
  {
   "cell_type": "code",
   "execution_count": 4,
   "metadata": {
    "colab": {
     "base_uri": "https://localhost:8080/",
     "height": 300
    },
    "id": "5XViSq1UazSP",
    "outputId": "504d0c7a-144c-4b90-d8f1-ace46d6cdec1",
    "tags": []
   },
   "outputs": [
    {
     "data": {
      "text/html": [
       "<div>\n",
       "<style scoped>\n",
       "    .dataframe tbody tr th:only-of-type {\n",
       "        vertical-align: middle;\n",
       "    }\n",
       "\n",
       "    .dataframe tbody tr th {\n",
       "        vertical-align: top;\n",
       "    }\n",
       "\n",
       "    .dataframe thead th {\n",
       "        text-align: right;\n",
       "    }\n",
       "</style>\n",
       "<table border=\"1\" class=\"dataframe\">\n",
       "  <thead>\n",
       "    <tr style=\"text-align: right;\">\n",
       "      <th></th>\n",
       "      <th>age</th>\n",
       "      <th>balance</th>\n",
       "      <th>day</th>\n",
       "      <th>duration</th>\n",
       "      <th>campaign</th>\n",
       "      <th>pdays</th>\n",
       "      <th>previous</th>\n",
       "    </tr>\n",
       "  </thead>\n",
       "  <tbody>\n",
       "    <tr>\n",
       "      <th>count</th>\n",
       "      <td>11162.000000</td>\n",
       "      <td>11162.000000</td>\n",
       "      <td>11162.000000</td>\n",
       "      <td>11162.000000</td>\n",
       "      <td>11162.000000</td>\n",
       "      <td>11162.000000</td>\n",
       "      <td>11162.000000</td>\n",
       "    </tr>\n",
       "    <tr>\n",
       "      <th>mean</th>\n",
       "      <td>41.231948</td>\n",
       "      <td>1528.538524</td>\n",
       "      <td>15.658036</td>\n",
       "      <td>371.993818</td>\n",
       "      <td>2.508421</td>\n",
       "      <td>51.330407</td>\n",
       "      <td>0.832557</td>\n",
       "    </tr>\n",
       "    <tr>\n",
       "      <th>std</th>\n",
       "      <td>11.913369</td>\n",
       "      <td>3225.413326</td>\n",
       "      <td>8.420740</td>\n",
       "      <td>347.128386</td>\n",
       "      <td>2.722077</td>\n",
       "      <td>108.758282</td>\n",
       "      <td>2.292007</td>\n",
       "    </tr>\n",
       "    <tr>\n",
       "      <th>min</th>\n",
       "      <td>18.000000</td>\n",
       "      <td>-6847.000000</td>\n",
       "      <td>1.000000</td>\n",
       "      <td>2.000000</td>\n",
       "      <td>1.000000</td>\n",
       "      <td>-1.000000</td>\n",
       "      <td>0.000000</td>\n",
       "    </tr>\n",
       "    <tr>\n",
       "      <th>25%</th>\n",
       "      <td>32.000000</td>\n",
       "      <td>122.000000</td>\n",
       "      <td>8.000000</td>\n",
       "      <td>138.000000</td>\n",
       "      <td>1.000000</td>\n",
       "      <td>-1.000000</td>\n",
       "      <td>0.000000</td>\n",
       "    </tr>\n",
       "    <tr>\n",
       "      <th>50%</th>\n",
       "      <td>39.000000</td>\n",
       "      <td>550.000000</td>\n",
       "      <td>15.000000</td>\n",
       "      <td>255.000000</td>\n",
       "      <td>2.000000</td>\n",
       "      <td>-1.000000</td>\n",
       "      <td>0.000000</td>\n",
       "    </tr>\n",
       "    <tr>\n",
       "      <th>75%</th>\n",
       "      <td>49.000000</td>\n",
       "      <td>1708.000000</td>\n",
       "      <td>22.000000</td>\n",
       "      <td>496.000000</td>\n",
       "      <td>3.000000</td>\n",
       "      <td>20.750000</td>\n",
       "      <td>1.000000</td>\n",
       "    </tr>\n",
       "    <tr>\n",
       "      <th>max</th>\n",
       "      <td>95.000000</td>\n",
       "      <td>81204.000000</td>\n",
       "      <td>31.000000</td>\n",
       "      <td>3881.000000</td>\n",
       "      <td>63.000000</td>\n",
       "      <td>854.000000</td>\n",
       "      <td>58.000000</td>\n",
       "    </tr>\n",
       "  </tbody>\n",
       "</table>\n",
       "</div>"
      ],
      "text/plain": [
       "                age       balance           day      duration      campaign  \\\n",
       "count  11162.000000  11162.000000  11162.000000  11162.000000  11162.000000   \n",
       "mean      41.231948   1528.538524     15.658036    371.993818      2.508421   \n",
       "std       11.913369   3225.413326      8.420740    347.128386      2.722077   \n",
       "min       18.000000  -6847.000000      1.000000      2.000000      1.000000   \n",
       "25%       32.000000    122.000000      8.000000    138.000000      1.000000   \n",
       "50%       39.000000    550.000000     15.000000    255.000000      2.000000   \n",
       "75%       49.000000   1708.000000     22.000000    496.000000      3.000000   \n",
       "max       95.000000  81204.000000     31.000000   3881.000000     63.000000   \n",
       "\n",
       "              pdays      previous  \n",
       "count  11162.000000  11162.000000  \n",
       "mean      51.330407      0.832557  \n",
       "std      108.758282      2.292007  \n",
       "min       -1.000000      0.000000  \n",
       "25%       -1.000000      0.000000  \n",
       "50%       -1.000000      0.000000  \n",
       "75%       20.750000      1.000000  \n",
       "max      854.000000     58.000000  "
      ]
     },
     "execution_count": 4,
     "metadata": {},
     "output_type": "execute_result"
    }
   ],
   "source": [
    "bank.describe()"
   ]
  },
  {
   "cell_type": "code",
   "execution_count": 5,
   "metadata": {
    "colab": {
     "base_uri": "https://localhost:8080/",
     "height": 449
    },
    "id": "fx-MTksOa0gn",
    "outputId": "e963fed1-b896-4c9a-b8df-34324e161a7c",
    "tags": []
   },
   "outputs": [
    {
     "data": {
      "image/png": "[encoded data removed]",
      "text/plain": [
       "<Figure size 640x480 with 1 Axes>"
      ]
     },
     "metadata": {},
     "output_type": "display_data"
    }
   ],
   "source": [
    "# Boxplot for 'age'\n",
    "g = sns.boxplot(x=bank[\"age\"])"
   ]
  },
  {
   "cell_type": "code",
   "execution_count": 6,
   "metadata": {
    "colab": {
     "base_uri": "https://localhost:8080/",
     "height": 466
    },
    "id": "2VU3cA2Ca6cF",
    "outputId": "abb76275-90ab-4468-a480-5c5b85c508a0",
    "tags": []
   },
   "outputs": [
    {
     "data": {
      "text/plain": [
       "<Axes: xlabel='age', ylabel='Count'>"
      ]
     },
     "execution_count": 6,
     "metadata": {},
     "output_type": "execute_result"
    },
    {
     "data": {
      "image/png": "[encoded data removed]",
      "text/plain": [
       "<Figure size 640x480 with 1 Axes>"
      ]
     },
     "metadata": {},
     "output_type": "display_data"
    }
   ],
   "source": [
    "# Distribution of Age\n",
    "sns.histplot(bank.age, bins=100)"
   ]
  },
  {
   "cell_type": "code",
   "execution_count": 7,
   "metadata": {
    "colab": {
     "base_uri": "https://localhost:8080/",
     "height": 449
    },
    "id": "xbf-gTVobB0-",
    "outputId": "2b6ad875-dd43-4b22-ab4c-5367d5a735d2",
    "tags": []
   },
   "outputs": [
    {
     "data": {
      "image/png": "[encoded data removed]",
      "text/plain": [
       "<Figure size 640x480 with 1 Axes>"
      ]
     },
     "metadata": {},
     "output_type": "display_data"
    }
   ],
   "source": [
    "# Boxplot for 'duration'\n",
    "g = sns.boxplot(x=bank[\"duration\"])"
   ]
  },
  {
   "cell_type": "code",
   "execution_count": 8,
   "metadata": {
    "colab": {
     "base_uri": "https://localhost:8080/",
     "height": 466
    },
    "id": "M8K1xvG6bGAI",
    "outputId": "13f4750a-53cd-4599-80ef-092489cd9fde",
    "tags": []
   },
   "outputs": [
    {
     "data": {
      "text/plain": [
       "<Axes: xlabel='duration', ylabel='Count'>"
      ]
     },
     "execution_count": 8,
     "metadata": {},
     "output_type": "execute_result"
    },
    {
     "data": {
      "image/png": "[encoded data removed]",
      "text/plain": [
       "<Figure size 640x480 with 1 Axes>"
      ]
     },
     "metadata": {},
     "output_type": "display_data"
    }
   ],
   "source": [
    "sns.histplot(bank.duration, bins=100)"
   ]
  },
  {
   "cell_type": "code",
   "execution_count": 9,
   "metadata": {
    "id": "Kwh38FtibKUL",
    "tags": []
   },
   "outputs": [],
   "source": [
    "# Make a copy for parsing\n",
    "bank_data = bank.copy()"
   ]
  },
  {
   "cell_type": "code",
   "execution_count": 10,
   "metadata": {
    "colab": {
     "base_uri": "https://localhost:8080/"
    },
    "id": "QSDkyFARbaHa",
    "outputId": "1806da00-4ea8-4539-92b9-5d6d4f56f38a",
    "tags": []
   },
   "outputs": [
    {
     "name": "stdout",
     "output_type": "stream",
     "text": [
      "management      :  1301\n",
      "blue-collar     :   708\n",
      "technician      :   840\n",
      "admin.          :   631\n",
      "services        :   369\n",
      "retired         :   516\n",
      "self-employed   :   187\n",
      "student         :   269\n",
      "unemployed      :   202\n",
      "entrepreneur    :   123\n",
      "housemaid       :   109\n",
      "unknown         :    34\n"
     ]
    }
   ],
   "source": [
    "# Explore People who made a deposit Vs Job category\n",
    "jobs = ['management','blue-collar','technician','admin.','services','retired','self-employed','student',\\\n",
    "        'unemployed','entrepreneur','housemaid','unknown']\n",
    "\n",
    "for j in jobs:\n",
    "    print(\"{:15} : {:5}\". format(j, len(bank_data[(bank_data.deposit == \"yes\") & (bank_data.job ==j)])))"
   ]
  },
  {
   "cell_type": "code",
   "execution_count": 11,
   "metadata": {
    "colab": {
     "base_uri": "https://localhost:8080/"
    },
    "id": "y0bp4tNxbbDK",
    "outputId": "f3c4d723-ebca-4982-e512-02b332ae1044",
    "tags": []
   },
   "outputs": [
    {
     "data": {
      "text/plain": [
       "job\n",
       "management       2566\n",
       "blue-collar      1944\n",
       "technician       1823\n",
       "admin.           1334\n",
       "services          923\n",
       "retired           778\n",
       "self-employed     405\n",
       "student           360\n",
       "unemployed        357\n",
       "entrepreneur      328\n",
       "housemaid         274\n",
       "unknown            70\n",
       "Name: count, dtype: int64"
      ]
     },
     "execution_count": 11,
     "metadata": {},
     "output_type": "execute_result"
    }
   ],
   "source": [
    "# Different types of job categories and their counts\n",
    "bank_data.job.value_counts()"
   ]
  },
  {
   "cell_type": "code",
   "execution_count": 12,
   "metadata": {
    "id": "Ac4JC2cGbeOS",
    "tags": []
   },
   "outputs": [],
   "source": [
    "# Combine similar jobs into categiroes\n",
    "bank_data['job'] = bank_data['job'].replace(['management', 'admin.'], 'white-collar')\n",
    "bank_data['job'] = bank_data['job'].replace(['services','housemaid'], 'pink-collar')\n",
    "bank_data['job'] = bank_data['job'].replace(['retired', 'student', 'unemployed', 'unknown'], 'other')"
   ]
  },
  {
   "cell_type": "code",
   "execution_count": 13,
   "metadata": {
    "colab": {
     "base_uri": "https://localhost:8080/"
    },
    "id": "xGBXD_D1bjRS",
    "outputId": "ecc423bf-adb9-4661-9b7f-bdeca4772354",
    "tags": []
   },
   "outputs": [
    {
     "data": {
      "text/plain": [
       "job\n",
       "white-collar     3900\n",
       "blue-collar      1944\n",
       "technician       1823\n",
       "other            1565\n",
       "pink-collar      1197\n",
       "self-employed     405\n",
       "entrepreneur      328\n",
       "Name: count, dtype: int64"
      ]
     },
     "execution_count": 13,
     "metadata": {},
     "output_type": "execute_result"
    }
   ],
   "source": [
    "# New value counts\n",
    "bank_data.job.value_counts()"
   ]
  },
  {
   "cell_type": "code",
   "execution_count": 14,
   "metadata": {
    "colab": {
     "base_uri": "https://localhost:8080/"
    },
    "id": "y-TxFTz6bnnp",
    "outputId": "d8cb6c0c-be58-43ac-d460-45bca255d194",
    "tags": []
   },
   "outputs": [
    {
     "data": {
      "text/plain": [
       "poutcome\n",
       "unknown    8326\n",
       "failure    1228\n",
       "success    1071\n",
       "other       537\n",
       "Name: count, dtype: int64"
      ]
     },
     "execution_count": 14,
     "metadata": {},
     "output_type": "execute_result"
    }
   ],
   "source": [
    "bank_data.poutcome.value_counts()"
   ]
  },
  {
   "cell_type": "code",
   "execution_count": 15,
   "metadata": {
    "colab": {
     "base_uri": "https://localhost:8080/"
    },
    "id": "mClGC8b1bqZm",
    "outputId": "e10048c8-bab3-4070-fd84-72d7bc571b9d",
    "tags": []
   },
   "outputs": [
    {
     "data": {
      "text/plain": [
       "poutcome\n",
       "unknown    8863\n",
       "failure    1228\n",
       "success    1071\n",
       "Name: count, dtype: int64"
      ]
     },
     "execution_count": 15,
     "metadata": {},
     "output_type": "execute_result"
    }
   ],
   "source": [
    "# Combine 'unknown' and 'other' as 'other' isn't really match with either 'success' or 'failure'\n",
    "bank_data['poutcome'] = bank_data['poutcome'].replace(['other'] , 'unknown')\n",
    "bank_data.poutcome.value_counts()"
   ]
  },
  {
   "cell_type": "code",
   "execution_count": 16,
   "metadata": {
    "id": "GUWOnsBpbqgu",
    "tags": []
   },
   "outputs": [],
   "source": [
    "# Drop 'contact', as every participant has been contacted.\n",
    "bank_data.drop('contact', axis=1, inplace=True)"
   ]
  },
  {
   "cell_type": "code",
   "execution_count": 17,
   "metadata": {
    "id": "H4uWM5tabqlc",
    "tags": []
   },
   "outputs": [],
   "source": [
    "# values for \"default\" : yes/no\n",
    "bank_data[\"default\"]\n",
    "bank_data['default_cat'] = bank_data['default'].map( {'yes':1, 'no':0} )\n",
    "bank_data.drop('default', axis=1,inplace = True)"
   ]
  },
  {
   "cell_type": "code",
   "execution_count": 18,
   "metadata": {
    "id": "rWTG22sKbqpF",
    "tags": []
   },
   "outputs": [],
   "source": [
    "# values for \"housing\" : yes/no\n",
    "bank_data[\"housing_cat\"]=bank_data['housing'].map({'yes':1, 'no':0})\n",
    "bank_data.drop('housing', axis=1,inplace = True)"
   ]
  },
  {
   "cell_type": "code",
   "execution_count": 19,
   "metadata": {
    "id": "KXs_4qdFbz19",
    "tags": []
   },
   "outputs": [],
   "source": [
    "# values for \"loan\" : yes/no\n",
    "bank_data[\"loan_cat\"] = bank_data['loan'].map({'yes':1, 'no':0})\n",
    "bank_data.drop('loan', axis=1, inplace=True)"
   ]
  },
  {
   "cell_type": "code",
   "execution_count": 20,
   "metadata": {
    "id": "q7ZTyBMTbz6Z",
    "tags": []
   },
   "outputs": [],
   "source": [
    "# day  : last contact day of the month\n",
    "# month: last contact month of year\n",
    "# Drop 'month' and 'day' as they don't have any intrinsic meaning\n",
    "bank_data.drop('month', axis=1, inplace=True)\n",
    "bank_data.drop('day', axis=1, inplace=True)"
   ]
  },
  {
   "cell_type": "code",
   "execution_count": 21,
   "metadata": {
    "id": "0trv7GLUbz9U",
    "tags": []
   },
   "outputs": [],
   "source": [
    "# values for \"deposit\" : yes/no\n",
    "bank_data[\"deposit_cat\"] = bank_data['deposit'].map({'yes':1, 'no':0})\n",
    "bank_data.drop('deposit', axis=1, inplace=True)"
   ]
  },
  {
   "cell_type": "code",
   "execution_count": 22,
   "metadata": {
    "colab": {
     "base_uri": "https://localhost:8080/"
    },
    "id": "qCszsb0Zb0AF",
    "outputId": "5ac1a56c-e0fe-4501-dca3-f6b2d9d561a9",
    "tags": []
   },
   "outputs": [
    {
     "name": "stdout",
     "output_type": "stream",
     "text": [
      "Customers that have not been contacted before: 8324\n",
      "Maximum values on padys    : 854\n"
     ]
    }
   ],
   "source": [
    "# pdays: number of days that passed by after the client was last contacted from a previous campaign\n",
    "#       -1 means client was not previously contacted\n",
    "\n",
    "print(\"Customers that have not been contacted before:\", len(bank_data[bank_data.pdays==-1]))\n",
    "print(\"Maximum values on padys    :\", bank_data['pdays'].max())"
   ]
  },
  {
   "cell_type": "code",
   "execution_count": 23,
   "metadata": {
    "id": "e265SwJ3b0Ck",
    "tags": []
   },
   "outputs": [],
   "source": [
    "# Map padys=-1 into a large value (10000 is used) to indicate that it is so far in the past that it has no effect\n",
    "bank_data.loc[bank_data['pdays'] == -1, 'pdays'] = 10000"
   ]
  },
  {
   "cell_type": "code",
   "execution_count": 24,
   "metadata": {
    "id": "mpOxV2Vyb0Gs",
    "tags": []
   },
   "outputs": [],
   "source": [
    "# Create a new column: recent_pdays\n",
    "bank_data['recent_pdays'] = np.where(bank_data['pdays'], 1/bank_data.pdays, 1/bank_data.pdays)\n",
    "\n",
    "# Drop 'pdays'\n",
    "bank_data.drop('pdays', axis=1, inplace = True)"
   ]
  },
  {
   "cell_type": "code",
   "execution_count": 25,
   "metadata": {
    "colab": {
     "base_uri": "https://localhost:8080/",
     "height": 261
    },
    "id": "l2TQOny4cDUJ",
    "outputId": "724c1c88-7c40-49fa-cc8f-fb8edde7112e",
    "tags": []
   },
   "outputs": [
    {
     "data": {
      "text/html": [
       "<div>\n",
       "<style scoped>\n",
       "    .dataframe tbody tr th:only-of-type {\n",
       "        vertical-align: middle;\n",
       "    }\n",
       "\n",
       "    .dataframe tbody tr th {\n",
       "        vertical-align: top;\n",
       "    }\n",
       "\n",
       "    .dataframe thead th {\n",
       "        text-align: right;\n",
       "    }\n",
       "</style>\n",
       "<table border=\"1\" class=\"dataframe\">\n",
       "  <thead>\n",
       "    <tr style=\"text-align: right;\">\n",
       "      <th></th>\n",
       "      <th>age</th>\n",
       "      <th>job</th>\n",
       "      <th>marital</th>\n",
       "      <th>education</th>\n",
       "      <th>balance</th>\n",
       "      <th>duration</th>\n",
       "      <th>campaign</th>\n",
       "      <th>previous</th>\n",
       "      <th>poutcome</th>\n",
       "      <th>default_cat</th>\n",
       "      <th>housing_cat</th>\n",
       "      <th>loan_cat</th>\n",
       "      <th>deposit_cat</th>\n",
       "      <th>recent_pdays</th>\n",
       "    </tr>\n",
       "  </thead>\n",
       "  <tbody>\n",
       "    <tr>\n",
       "      <th>11157</th>\n",
       "      <td>33</td>\n",
       "      <td>blue-collar</td>\n",
       "      <td>single</td>\n",
       "      <td>primary</td>\n",
       "      <td>1</td>\n",
       "      <td>257</td>\n",
       "      <td>1</td>\n",
       "      <td>0</td>\n",
       "      <td>unknown</td>\n",
       "      <td>0</td>\n",
       "      <td>1</td>\n",
       "      <td>0</td>\n",
       "      <td>0</td>\n",
       "      <td>0.000100</td>\n",
       "    </tr>\n",
       "    <tr>\n",
       "      <th>11158</th>\n",
       "      <td>39</td>\n",
       "      <td>pink-collar</td>\n",
       "      <td>married</td>\n",
       "      <td>secondary</td>\n",
       "      <td>733</td>\n",
       "      <td>83</td>\n",
       "      <td>4</td>\n",
       "      <td>0</td>\n",
       "      <td>unknown</td>\n",
       "      <td>0</td>\n",
       "      <td>0</td>\n",
       "      <td>0</td>\n",
       "      <td>0</td>\n",
       "      <td>0.000100</td>\n",
       "    </tr>\n",
       "    <tr>\n",
       "      <th>11159</th>\n",
       "      <td>32</td>\n",
       "      <td>technician</td>\n",
       "      <td>single</td>\n",
       "      <td>secondary</td>\n",
       "      <td>29</td>\n",
       "      <td>156</td>\n",
       "      <td>2</td>\n",
       "      <td>0</td>\n",
       "      <td>unknown</td>\n",
       "      <td>0</td>\n",
       "      <td>0</td>\n",
       "      <td>0</td>\n",
       "      <td>0</td>\n",
       "      <td>0.000100</td>\n",
       "    </tr>\n",
       "    <tr>\n",
       "      <th>11160</th>\n",
       "      <td>43</td>\n",
       "      <td>technician</td>\n",
       "      <td>married</td>\n",
       "      <td>secondary</td>\n",
       "      <td>0</td>\n",
       "      <td>9</td>\n",
       "      <td>2</td>\n",
       "      <td>5</td>\n",
       "      <td>failure</td>\n",
       "      <td>0</td>\n",
       "      <td>0</td>\n",
       "      <td>1</td>\n",
       "      <td>0</td>\n",
       "      <td>0.005814</td>\n",
       "    </tr>\n",
       "    <tr>\n",
       "      <th>11161</th>\n",
       "      <td>34</td>\n",
       "      <td>technician</td>\n",
       "      <td>married</td>\n",
       "      <td>secondary</td>\n",
       "      <td>0</td>\n",
       "      <td>628</td>\n",
       "      <td>1</td>\n",
       "      <td>0</td>\n",
       "      <td>unknown</td>\n",
       "      <td>0</td>\n",
       "      <td>0</td>\n",
       "      <td>0</td>\n",
       "      <td>0</td>\n",
       "      <td>0.000100</td>\n",
       "    </tr>\n",
       "  </tbody>\n",
       "</table>\n",
       "</div>"
      ],
      "text/plain": [
       "       age          job  marital  education  balance  duration  campaign  \\\n",
       "11157   33  blue-collar   single    primary        1       257         1   \n",
       "11158   39  pink-collar  married  secondary      733        83         4   \n",
       "11159   32   technician   single  secondary       29       156         2   \n",
       "11160   43   technician  married  secondary        0         9         2   \n",
       "11161   34   technician  married  secondary        0       628         1   \n",
       "\n",
       "       previous poutcome  default_cat  housing_cat  loan_cat  deposit_cat  \\\n",
       "11157         0  unknown            0            1         0            0   \n",
       "11158         0  unknown            0            0         0            0   \n",
       "11159         0  unknown            0            0         0            0   \n",
       "11160         5  failure            0            0         1            0   \n",
       "11161         0  unknown            0            0         0            0   \n",
       "\n",
       "       recent_pdays  \n",
       "11157      0.000100  \n",
       "11158      0.000100  \n",
       "11159      0.000100  \n",
       "11160      0.005814  \n",
       "11161      0.000100  "
      ]
     },
     "execution_count": 25,
     "metadata": {},
     "output_type": "execute_result"
    }
   ],
   "source": [
    "bank_data.tail()"
   ]
  },
  {
   "cell_type": "code",
   "execution_count": 26,
   "metadata": {
    "colab": {
     "base_uri": "https://localhost:8080/",
     "height": 255
    },
    "id": "yVPKMHMjcDXq",
    "outputId": "84b72c43-9da8-4735-a05a-880f59ad2863",
    "tags": []
   },
   "outputs": [
    {
     "data": {
      "text/html": [
       "<div>\n",
       "<style scoped>\n",
       "    .dataframe tbody tr th:only-of-type {\n",
       "        vertical-align: middle;\n",
       "    }\n",
       "\n",
       "    .dataframe tbody tr th {\n",
       "        vertical-align: top;\n",
       "    }\n",
       "\n",
       "    .dataframe thead th {\n",
       "        text-align: right;\n",
       "    }\n",
       "</style>\n",
       "<table border=\"1\" class=\"dataframe\">\n",
       "  <thead>\n",
       "    <tr style=\"text-align: right;\">\n",
       "      <th></th>\n",
       "      <th>age</th>\n",
       "      <th>balance</th>\n",
       "      <th>duration</th>\n",
       "      <th>campaign</th>\n",
       "      <th>previous</th>\n",
       "      <th>default_cat</th>\n",
       "      <th>housing_cat</th>\n",
       "      <th>loan_cat</th>\n",
       "      <th>deposit_cat</th>\n",
       "      <th>recent_pdays</th>\n",
       "      <th>...</th>\n",
       "      <th>marital_divorced</th>\n",
       "      <th>marital_married</th>\n",
       "      <th>marital_single</th>\n",
       "      <th>education_primary</th>\n",
       "      <th>education_secondary</th>\n",
       "      <th>education_tertiary</th>\n",
       "      <th>education_unknown</th>\n",
       "      <th>poutcome_failure</th>\n",
       "      <th>poutcome_success</th>\n",
       "      <th>poutcome_unknown</th>\n",
       "    </tr>\n",
       "  </thead>\n",
       "  <tbody>\n",
       "    <tr>\n",
       "      <th>0</th>\n",
       "      <td>59</td>\n",
       "      <td>2343</td>\n",
       "      <td>1042</td>\n",
       "      <td>1</td>\n",
       "      <td>0</td>\n",
       "      <td>0</td>\n",
       "      <td>1</td>\n",
       "      <td>0</td>\n",
       "      <td>1</td>\n",
       "      <td>0.0001</td>\n",
       "      <td>...</td>\n",
       "      <td>False</td>\n",
       "      <td>True</td>\n",
       "      <td>False</td>\n",
       "      <td>False</td>\n",
       "      <td>True</td>\n",
       "      <td>False</td>\n",
       "      <td>False</td>\n",
       "      <td>False</td>\n",
       "      <td>False</td>\n",
       "      <td>True</td>\n",
       "    </tr>\n",
       "    <tr>\n",
       "      <th>1</th>\n",
       "      <td>56</td>\n",
       "      <td>45</td>\n",
       "      <td>1467</td>\n",
       "      <td>1</td>\n",
       "      <td>0</td>\n",
       "      <td>0</td>\n",
       "      <td>0</td>\n",
       "      <td>0</td>\n",
       "      <td>1</td>\n",
       "      <td>0.0001</td>\n",
       "      <td>...</td>\n",
       "      <td>False</td>\n",
       "      <td>True</td>\n",
       "      <td>False</td>\n",
       "      <td>False</td>\n",
       "      <td>True</td>\n",
       "      <td>False</td>\n",
       "      <td>False</td>\n",
       "      <td>False</td>\n",
       "      <td>False</td>\n",
       "      <td>True</td>\n",
       "    </tr>\n",
       "    <tr>\n",
       "      <th>2</th>\n",
       "      <td>41</td>\n",
       "      <td>1270</td>\n",
       "      <td>1389</td>\n",
       "      <td>1</td>\n",
       "      <td>0</td>\n",
       "      <td>0</td>\n",
       "      <td>1</td>\n",
       "      <td>0</td>\n",
       "      <td>1</td>\n",
       "      <td>0.0001</td>\n",
       "      <td>...</td>\n",
       "      <td>False</td>\n",
       "      <td>True</td>\n",
       "      <td>False</td>\n",
       "      <td>False</td>\n",
       "      <td>True</td>\n",
       "      <td>False</td>\n",
       "      <td>False</td>\n",
       "      <td>False</td>\n",
       "      <td>False</td>\n",
       "      <td>True</td>\n",
       "    </tr>\n",
       "    <tr>\n",
       "      <th>3</th>\n",
       "      <td>55</td>\n",
       "      <td>2476</td>\n",
       "      <td>579</td>\n",
       "      <td>1</td>\n",
       "      <td>0</td>\n",
       "      <td>0</td>\n",
       "      <td>1</td>\n",
       "      <td>0</td>\n",
       "      <td>1</td>\n",
       "      <td>0.0001</td>\n",
       "      <td>...</td>\n",
       "      <td>False</td>\n",
       "      <td>True</td>\n",
       "      <td>False</td>\n",
       "      <td>False</td>\n",
       "      <td>True</td>\n",
       "      <td>False</td>\n",
       "      <td>False</td>\n",
       "      <td>False</td>\n",
       "      <td>False</td>\n",
       "      <td>True</td>\n",
       "    </tr>\n",
       "    <tr>\n",
       "      <th>4</th>\n",
       "      <td>54</td>\n",
       "      <td>184</td>\n",
       "      <td>673</td>\n",
       "      <td>2</td>\n",
       "      <td>0</td>\n",
       "      <td>0</td>\n",
       "      <td>0</td>\n",
       "      <td>0</td>\n",
       "      <td>1</td>\n",
       "      <td>0.0001</td>\n",
       "      <td>...</td>\n",
       "      <td>False</td>\n",
       "      <td>True</td>\n",
       "      <td>False</td>\n",
       "      <td>False</td>\n",
       "      <td>False</td>\n",
       "      <td>True</td>\n",
       "      <td>False</td>\n",
       "      <td>False</td>\n",
       "      <td>False</td>\n",
       "      <td>True</td>\n",
       "    </tr>\n",
       "  </tbody>\n",
       "</table>\n",
       "<p>5 rows × 27 columns</p>\n",
       "</div>"
      ],
      "text/plain": [
       "   age  balance  duration  campaign  previous  default_cat  housing_cat  \\\n",
       "0   59     2343      1042         1         0            0            1   \n",
       "1   56       45      1467         1         0            0            0   \n",
       "2   41     1270      1389         1         0            0            1   \n",
       "3   55     2476       579         1         0            0            1   \n",
       "4   54      184       673         2         0            0            0   \n",
       "\n",
       "   loan_cat  deposit_cat  recent_pdays  ...  marital_divorced  \\\n",
       "0         0            1        0.0001  ...             False   \n",
       "1         0            1        0.0001  ...             False   \n",
       "2         0            1        0.0001  ...             False   \n",
       "3         0            1        0.0001  ...             False   \n",
       "4         0            1        0.0001  ...             False   \n",
       "\n",
       "   marital_married  marital_single  education_primary  education_secondary  \\\n",
       "0             True           False              False                 True   \n",
       "1             True           False              False                 True   \n",
       "2             True           False              False                 True   \n",
       "3             True           False              False                 True   \n",
       "4             True           False              False                False   \n",
       "\n",
       "   education_tertiary  education_unknown  poutcome_failure  poutcome_success  \\\n",
       "0               False              False             False             False   \n",
       "1               False              False             False             False   \n",
       "2               False              False             False             False   \n",
       "3               False              False             False             False   \n",
       "4                True              False             False             False   \n",
       "\n",
       "   poutcome_unknown  \n",
       "0              True  \n",
       "1              True  \n",
       "2              True  \n",
       "3              True  \n",
       "4              True  \n",
       "\n",
       "[5 rows x 27 columns]"
      ]
     },
     "execution_count": 26,
     "metadata": {},
     "output_type": "execute_result"
    }
   ],
   "source": [
    "# Convert categorical variables to dummies\n",
    "bank_with_dummies = pd.get_dummies(data=bank_data, columns = ['job', 'marital', 'education', 'poutcome'], \\\n",
    "                                   prefix = ['job', 'marital', 'education', 'poutcome'])\n",
    "bank_with_dummies.head()"
   ]
  },
  {
   "cell_type": "code",
   "execution_count": 27,
   "metadata": {
    "colab": {
     "base_uri": "https://localhost:8080/"
    },
    "id": "d2ZWHfY3cDah",
    "outputId": "74f5d749-eaca-40c2-ff56-930d6f6fcda9",
    "tags": []
   },
   "outputs": [
    {
     "data": {
      "text/plain": [
       "(11162, 27)"
      ]
     },
     "execution_count": 27,
     "metadata": {},
     "output_type": "execute_result"
    }
   ],
   "source": [
    "bank_with_dummies.shape"
   ]
  },
  {
   "cell_type": "code",
   "execution_count": 28,
   "metadata": {
    "colab": {
     "base_uri": "https://localhost:8080/",
     "height": 349
    },
    "id": "qlvr3vf3cDeK",
    "outputId": "b3dfdf6c-9461-4b89-9fbb-f24451b4be08",
    "tags": []
   },
   "outputs": [
    {
     "data": {
      "text/html": [
       "<div>\n",
       "<style scoped>\n",
       "    .dataframe tbody tr th:only-of-type {\n",
       "        vertical-align: middle;\n",
       "    }\n",
       "\n",
       "    .dataframe tbody tr th {\n",
       "        vertical-align: top;\n",
       "    }\n",
       "\n",
       "    .dataframe thead th {\n",
       "        text-align: right;\n",
       "    }\n",
       "</style>\n",
       "<table border=\"1\" class=\"dataframe\">\n",
       "  <thead>\n",
       "    <tr style=\"text-align: right;\">\n",
       "      <th></th>\n",
       "      <th>age</th>\n",
       "      <th>balance</th>\n",
       "      <th>duration</th>\n",
       "      <th>campaign</th>\n",
       "      <th>previous</th>\n",
       "      <th>default_cat</th>\n",
       "      <th>housing_cat</th>\n",
       "      <th>loan_cat</th>\n",
       "      <th>deposit_cat</th>\n",
       "      <th>recent_pdays</th>\n",
       "    </tr>\n",
       "  </thead>\n",
       "  <tbody>\n",
       "    <tr>\n",
       "      <th>count</th>\n",
       "      <td>11162.000000</td>\n",
       "      <td>11162.000000</td>\n",
       "      <td>11162.000000</td>\n",
       "      <td>11162.000000</td>\n",
       "      <td>11162.000000</td>\n",
       "      <td>11162.000000</td>\n",
       "      <td>11162.000000</td>\n",
       "      <td>11162.000000</td>\n",
       "      <td>11162.000000</td>\n",
       "      <td>11162.000000</td>\n",
       "    </tr>\n",
       "    <tr>\n",
       "      <th>mean</th>\n",
       "      <td>41.231948</td>\n",
       "      <td>1528.538524</td>\n",
       "      <td>371.993818</td>\n",
       "      <td>2.508421</td>\n",
       "      <td>0.832557</td>\n",
       "      <td>0.015051</td>\n",
       "      <td>0.473123</td>\n",
       "      <td>0.130801</td>\n",
       "      <td>0.473840</td>\n",
       "      <td>0.003124</td>\n",
       "    </tr>\n",
       "    <tr>\n",
       "      <th>std</th>\n",
       "      <td>11.913369</td>\n",
       "      <td>3225.413326</td>\n",
       "      <td>347.128386</td>\n",
       "      <td>2.722077</td>\n",
       "      <td>2.292007</td>\n",
       "      <td>0.121761</td>\n",
       "      <td>0.499299</td>\n",
       "      <td>0.337198</td>\n",
       "      <td>0.499338</td>\n",
       "      <td>0.030686</td>\n",
       "    </tr>\n",
       "    <tr>\n",
       "      <th>min</th>\n",
       "      <td>18.000000</td>\n",
       "      <td>-6847.000000</td>\n",
       "      <td>2.000000</td>\n",
       "      <td>1.000000</td>\n",
       "      <td>0.000000</td>\n",
       "      <td>0.000000</td>\n",
       "      <td>0.000000</td>\n",
       "      <td>0.000000</td>\n",
       "      <td>0.000000</td>\n",
       "      <td>0.000100</td>\n",
       "    </tr>\n",
       "    <tr>\n",
       "      <th>25%</th>\n",
       "      <td>32.000000</td>\n",
       "      <td>122.000000</td>\n",
       "      <td>138.000000</td>\n",
       "      <td>1.000000</td>\n",
       "      <td>0.000000</td>\n",
       "      <td>0.000000</td>\n",
       "      <td>0.000000</td>\n",
       "      <td>0.000000</td>\n",
       "      <td>0.000000</td>\n",
       "      <td>0.000100</td>\n",
       "    </tr>\n",
       "    <tr>\n",
       "      <th>50%</th>\n",
       "      <td>39.000000</td>\n",
       "      <td>550.000000</td>\n",
       "      <td>255.000000</td>\n",
       "      <td>2.000000</td>\n",
       "      <td>0.000000</td>\n",
       "      <td>0.000000</td>\n",
       "      <td>0.000000</td>\n",
       "      <td>0.000000</td>\n",
       "      <td>0.000000</td>\n",
       "      <td>0.000100</td>\n",
       "    </tr>\n",
       "    <tr>\n",
       "      <th>75%</th>\n",
       "      <td>49.000000</td>\n",
       "      <td>1708.000000</td>\n",
       "      <td>496.000000</td>\n",
       "      <td>3.000000</td>\n",
       "      <td>1.000000</td>\n",
       "      <td>0.000000</td>\n",
       "      <td>1.000000</td>\n",
       "      <td>0.000000</td>\n",
       "      <td>1.000000</td>\n",
       "      <td>0.001919</td>\n",
       "    </tr>\n",
       "    <tr>\n",
       "      <th>max</th>\n",
       "      <td>95.000000</td>\n",
       "      <td>81204.000000</td>\n",
       "      <td>3881.000000</td>\n",
       "      <td>63.000000</td>\n",
       "      <td>58.000000</td>\n",
       "      <td>1.000000</td>\n",
       "      <td>1.000000</td>\n",
       "      <td>1.000000</td>\n",
       "      <td>1.000000</td>\n",
       "      <td>1.000000</td>\n",
       "    </tr>\n",
       "  </tbody>\n",
       "</table>\n",
       "</div>"
      ],
      "text/plain": [
       "                age       balance      duration      campaign      previous  \\\n",
       "count  11162.000000  11162.000000  11162.000000  11162.000000  11162.000000   \n",
       "mean      41.231948   1528.538524    371.993818      2.508421      0.832557   \n",
       "std       11.913369   3225.413326    347.128386      2.722077      2.292007   \n",
       "min       18.000000  -6847.000000      2.000000      1.000000      0.000000   \n",
       "25%       32.000000    122.000000    138.000000      1.000000      0.000000   \n",
       "50%       39.000000    550.000000    255.000000      2.000000      0.000000   \n",
       "75%       49.000000   1708.000000    496.000000      3.000000      1.000000   \n",
       "max       95.000000  81204.000000   3881.000000     63.000000     58.000000   \n",
       "\n",
       "        default_cat   housing_cat      loan_cat   deposit_cat  recent_pdays  \n",
       "count  11162.000000  11162.000000  11162.000000  11162.000000  11162.000000  \n",
       "mean       0.015051      0.473123      0.130801      0.473840      0.003124  \n",
       "std        0.121761      0.499299      0.337198      0.499338      0.030686  \n",
       "min        0.000000      0.000000      0.000000      0.000000      0.000100  \n",
       "25%        0.000000      0.000000      0.000000      0.000000      0.000100  \n",
       "50%        0.000000      0.000000      0.000000      0.000000      0.000100  \n",
       "75%        0.000000      1.000000      0.000000      1.000000      0.001919  \n",
       "max        1.000000      1.000000      1.000000      1.000000      1.000000  "
      ]
     },
     "execution_count": 28,
     "metadata": {},
     "output_type": "execute_result"
    }
   ],
   "source": [
    "bank_with_dummies.describe()"
   ]
  },
  {
   "cell_type": "code",
   "execution_count": 29,
   "metadata": {
    "colab": {
     "base_uri": "https://localhost:8080/",
     "height": 449
    },
    "id": "xzJugl58cPmL",
    "outputId": "aa5f7a32-adfe-4b85-cc98-0f986d879082",
    "tags": []
   },
   "outputs": [
    {
     "data": {
      "image/png": "[encoded data removed]",
      "text/plain": [
       "<Figure size 640x480 with 1 Axes>"
      ]
     },
     "metadata": {},
     "output_type": "display_data"
    }
   ],
   "source": [
    "# Scatterplot showing age and balance\n",
    "bank_with_dummies.plot(kind='scatter', x='age', y='balance');\n",
    "\n",
    "# Across all ages, majority of people have savings of less than 20000."
   ]
  },
  {
   "cell_type": "code",
   "execution_count": 30,
   "metadata": {
    "colab": {
     "base_uri": "https://localhost:8080/",
     "height": 430
    },
    "id": "XarxfBihcPpU",
    "outputId": "c58f9b8d-af0a-41fd-fac7-0c237f296945",
    "tags": []
   },
   "outputs": [
    {
     "data": {
      "image/png": "[encoded data removed]",
      "text/plain": [
       "<Figure size 640x480 with 1 Axes>"
      ]
     },
     "metadata": {},
     "output_type": "display_data"
    }
   ],
   "source": [
    "bank_with_dummies.plot(kind='hist', x='poutcome_success', y='duration');"
   ]
  },
  {
   "cell_type": "code",
   "execution_count": 31,
   "metadata": {
    "colab": {
     "base_uri": "https://localhost:8080/",
     "height": 349
    },
    "id": "h8AYAsvScPsI",
    "outputId": "4546a053-851a-491a-aa8a-4d1c06d91678",
    "tags": []
   },
   "outputs": [
    {
     "data": {
      "text/html": [
       "<div>\n",
       "<style scoped>\n",
       "    .dataframe tbody tr th:only-of-type {\n",
       "        vertical-align: middle;\n",
       "    }\n",
       "\n",
       "    .dataframe tbody tr th {\n",
       "        vertical-align: top;\n",
       "    }\n",
       "\n",
       "    .dataframe thead th {\n",
       "        text-align: right;\n",
       "    }\n",
       "</style>\n",
       "<table border=\"1\" class=\"dataframe\">\n",
       "  <thead>\n",
       "    <tr style=\"text-align: right;\">\n",
       "      <th></th>\n",
       "      <th>age</th>\n",
       "      <th>balance</th>\n",
       "      <th>duration</th>\n",
       "      <th>campaign</th>\n",
       "      <th>previous</th>\n",
       "      <th>default_cat</th>\n",
       "      <th>housing_cat</th>\n",
       "      <th>loan_cat</th>\n",
       "      <th>deposit_cat</th>\n",
       "      <th>recent_pdays</th>\n",
       "    </tr>\n",
       "  </thead>\n",
       "  <tbody>\n",
       "    <tr>\n",
       "      <th>count</th>\n",
       "      <td>5289.000000</td>\n",
       "      <td>5289.000000</td>\n",
       "      <td>5289.000000</td>\n",
       "      <td>5289.000000</td>\n",
       "      <td>5289.000000</td>\n",
       "      <td>5289.000000</td>\n",
       "      <td>5289.000000</td>\n",
       "      <td>5289.000000</td>\n",
       "      <td>5289.0</td>\n",
       "      <td>5289.000000</td>\n",
       "    </tr>\n",
       "    <tr>\n",
       "      <th>mean</th>\n",
       "      <td>41.670070</td>\n",
       "      <td>1804.267915</td>\n",
       "      <td>537.294574</td>\n",
       "      <td>2.141047</td>\n",
       "      <td>1.170354</td>\n",
       "      <td>0.009832</td>\n",
       "      <td>0.365854</td>\n",
       "      <td>0.091511</td>\n",
       "      <td>1.0</td>\n",
       "      <td>0.004238</td>\n",
       "    </tr>\n",
       "    <tr>\n",
       "      <th>std</th>\n",
       "      <td>13.497781</td>\n",
       "      <td>3501.104777</td>\n",
       "      <td>392.525262</td>\n",
       "      <td>1.921826</td>\n",
       "      <td>2.553272</td>\n",
       "      <td>0.098676</td>\n",
       "      <td>0.481714</td>\n",
       "      <td>0.288361</td>\n",
       "      <td>0.0</td>\n",
       "      <td>0.035686</td>\n",
       "    </tr>\n",
       "    <tr>\n",
       "      <th>min</th>\n",
       "      <td>18.000000</td>\n",
       "      <td>-3058.000000</td>\n",
       "      <td>8.000000</td>\n",
       "      <td>1.000000</td>\n",
       "      <td>0.000000</td>\n",
       "      <td>0.000000</td>\n",
       "      <td>0.000000</td>\n",
       "      <td>0.000000</td>\n",
       "      <td>1.0</td>\n",
       "      <td>0.000100</td>\n",
       "    </tr>\n",
       "    <tr>\n",
       "      <th>25%</th>\n",
       "      <td>31.000000</td>\n",
       "      <td>210.000000</td>\n",
       "      <td>244.000000</td>\n",
       "      <td>1.000000</td>\n",
       "      <td>0.000000</td>\n",
       "      <td>0.000000</td>\n",
       "      <td>0.000000</td>\n",
       "      <td>0.000000</td>\n",
       "      <td>1.0</td>\n",
       "      <td>0.000100</td>\n",
       "    </tr>\n",
       "    <tr>\n",
       "      <th>50%</th>\n",
       "      <td>38.000000</td>\n",
       "      <td>733.000000</td>\n",
       "      <td>426.000000</td>\n",
       "      <td>2.000000</td>\n",
       "      <td>0.000000</td>\n",
       "      <td>0.000000</td>\n",
       "      <td>0.000000</td>\n",
       "      <td>0.000000</td>\n",
       "      <td>1.0</td>\n",
       "      <td>0.000100</td>\n",
       "    </tr>\n",
       "    <tr>\n",
       "      <th>75%</th>\n",
       "      <td>50.000000</td>\n",
       "      <td>2159.000000</td>\n",
       "      <td>725.000000</td>\n",
       "      <td>3.000000</td>\n",
       "      <td>1.000000</td>\n",
       "      <td>0.000000</td>\n",
       "      <td>1.000000</td>\n",
       "      <td>0.000000</td>\n",
       "      <td>1.0</td>\n",
       "      <td>0.005128</td>\n",
       "    </tr>\n",
       "    <tr>\n",
       "      <th>max</th>\n",
       "      <td>95.000000</td>\n",
       "      <td>81204.000000</td>\n",
       "      <td>3881.000000</td>\n",
       "      <td>32.000000</td>\n",
       "      <td>58.000000</td>\n",
       "      <td>1.000000</td>\n",
       "      <td>1.000000</td>\n",
       "      <td>1.000000</td>\n",
       "      <td>1.0</td>\n",
       "      <td>1.000000</td>\n",
       "    </tr>\n",
       "  </tbody>\n",
       "</table>\n",
       "</div>"
      ],
      "text/plain": [
       "               age       balance     duration     campaign     previous  \\\n",
       "count  5289.000000   5289.000000  5289.000000  5289.000000  5289.000000   \n",
       "mean     41.670070   1804.267915   537.294574     2.141047     1.170354   \n",
       "std      13.497781   3501.104777   392.525262     1.921826     2.553272   \n",
       "min      18.000000  -3058.000000     8.000000     1.000000     0.000000   \n",
       "25%      31.000000    210.000000   244.000000     1.000000     0.000000   \n",
       "50%      38.000000    733.000000   426.000000     2.000000     0.000000   \n",
       "75%      50.000000   2159.000000   725.000000     3.000000     1.000000   \n",
       "max      95.000000  81204.000000  3881.000000    32.000000    58.000000   \n",
       "\n",
       "       default_cat  housing_cat     loan_cat  deposit_cat  recent_pdays  \n",
       "count  5289.000000  5289.000000  5289.000000       5289.0   5289.000000  \n",
       "mean      0.009832     0.365854     0.091511          1.0      0.004238  \n",
       "std       0.098676     0.481714     0.288361          0.0      0.035686  \n",
       "min       0.000000     0.000000     0.000000          1.0      0.000100  \n",
       "25%       0.000000     0.000000     0.000000          1.0      0.000100  \n",
       "50%       0.000000     0.000000     0.000000          1.0      0.000100  \n",
       "75%       0.000000     1.000000     0.000000          1.0      0.005128  \n",
       "max       1.000000     1.000000     1.000000          1.0      1.000000  "
      ]
     },
     "execution_count": 31,
     "metadata": {},
     "output_type": "execute_result"
    }
   ],
   "source": [
    "# People who sign up to a term deposite\n",
    "bank_with_dummies[bank_data.deposit_cat == 1].describe()"
   ]
  },
  {
   "cell_type": "code",
   "execution_count": 32,
   "metadata": {
    "colab": {
     "base_uri": "https://localhost:8080/"
    },
    "id": "Ch69k5NHcPuw",
    "outputId": "d18f1e1b-aafd-4c57-af72-30518ab5f7f1",
    "tags": []
   },
   "outputs": [
    {
     "data": {
      "text/plain": [
       "265"
      ]
     },
     "execution_count": 32,
     "metadata": {},
     "output_type": "execute_result"
    }
   ],
   "source": [
    "# People signed up to a term deposite having a personal loan (loan_cat) and housing loan (housing_cat)\n",
    "len(bank_with_dummies[(bank_with_dummies.deposit_cat == 1) & (bank_with_dummies.loan_cat) & (bank_with_dummies.housing_cat)])"
   ]
  },
  {
   "cell_type": "code",
   "execution_count": 33,
   "metadata": {
    "colab": {
     "base_uri": "https://localhost:8080/"
    },
    "id": "O1Kleg3RcPy1",
    "outputId": "12428470-3c6e-4794-aac1-c4b82975e2b2",
    "tags": []
   },
   "outputs": [
    {
     "data": {
      "text/plain": [
       "52"
      ]
     },
     "execution_count": 33,
     "metadata": {},
     "output_type": "execute_result"
    }
   ],
   "source": [
    "# People signed up to a term deposite with a credit default\n",
    "len(bank_with_dummies[(bank_with_dummies.deposit_cat == 1) & (bank_with_dummies.default_cat ==1)])"
   ]
  },
  {
   "cell_type": "code",
   "execution_count": 34,
   "metadata": {
    "colab": {
     "base_uri": "https://localhost:8080/",
     "height": 559
    },
    "id": "YhoVN36jceEW",
    "outputId": "5e393995-abb3-4b91-e0d6-3e516123b7fa",
    "tags": []
   },
   "outputs": [
    {
     "data": {
      "text/plain": [
       "<Axes: xlabel='job', ylabel='deposit_cat'>"
      ]
     },
     "execution_count": 34,
     "metadata": {},
     "output_type": "execute_result"
    },
    {
     "data": {
      "image/png": "[encoded data removed]",
      "text/plain": [
       "<Figure size 1000x600 with 1 Axes>"
      ]
     },
     "metadata": {},
     "output_type": "display_data"
    }
   ],
   "source": [
    "# Bar chart of job Vs deposite\n",
    "plt.figure(figsize = (10,6))\n",
    "sns.barplot(x='job', y = 'deposit_cat', data = bank_data)"
   ]
  },
  {
   "cell_type": "code",
   "execution_count": 35,
   "metadata": {
    "colab": {
     "base_uri": "https://localhost:8080/",
     "height": 559
    },
    "id": "qslpuXU3ceHb",
    "outputId": "37dab3dc-01ef-4b12-af2f-27e641fc64b0",
    "tags": []
   },
   "outputs": [
    {
     "data": {
      "text/plain": [
       "<Axes: xlabel='poutcome', ylabel='duration'>"
      ]
     },
     "execution_count": 35,
     "metadata": {},
     "output_type": "execute_result"
    },
    {
     "data": {
      "image/png": "[encoded data removed]",
      "text/plain": [
       "<Figure size 1000x600 with 1 Axes>"
      ]
     },
     "metadata": {},
     "output_type": "display_data"
    }
   ],
   "source": [
    "# Bar chart of \"previous outcome\" Vs \"call duration\"\n",
    "\n",
    "plt.figure(figsize = (10,6))\n",
    "sns.barplot(x='poutcome', y = 'duration', data = bank_data)"
   ]
  },
  {
   "cell_type": "code",
   "execution_count": 36,
   "metadata": {
    "id": "aG6QmD6QceKE",
    "tags": []
   },
   "outputs": [],
   "source": [
    "# make a copy\n",
    "bankcl = bank_with_dummies"
   ]
  },
  {
   "cell_type": "code",
   "execution_count": 37,
   "metadata": {
    "colab": {
     "base_uri": "https://localhost:8080/",
     "height": 945
    },
    "id": "IL_SEK9kceMv",
    "outputId": "2d1d2246-1ad7-4a01-b6ec-b98dcbc65066",
    "tags": []
   },
   "outputs": [
    {
     "data": {
      "text/html": [
       "<div>\n",
       "<style scoped>\n",
       "    .dataframe tbody tr th:only-of-type {\n",
       "        vertical-align: middle;\n",
       "    }\n",
       "\n",
       "    .dataframe tbody tr th {\n",
       "        vertical-align: top;\n",
       "    }\n",
       "\n",
       "    .dataframe thead th {\n",
       "        text-align: right;\n",
       "    }\n",
       "</style>\n",
       "<table border=\"1\" class=\"dataframe\">\n",
       "  <thead>\n",
       "    <tr style=\"text-align: right;\">\n",
       "      <th></th>\n",
       "      <th>age</th>\n",
       "      <th>balance</th>\n",
       "      <th>duration</th>\n",
       "      <th>campaign</th>\n",
       "      <th>previous</th>\n",
       "      <th>default_cat</th>\n",
       "      <th>housing_cat</th>\n",
       "      <th>loan_cat</th>\n",
       "      <th>deposit_cat</th>\n",
       "      <th>recent_pdays</th>\n",
       "      <th>...</th>\n",
       "      <th>marital_divorced</th>\n",
       "      <th>marital_married</th>\n",
       "      <th>marital_single</th>\n",
       "      <th>education_primary</th>\n",
       "      <th>education_secondary</th>\n",
       "      <th>education_tertiary</th>\n",
       "      <th>education_unknown</th>\n",
       "      <th>poutcome_failure</th>\n",
       "      <th>poutcome_success</th>\n",
       "      <th>poutcome_unknown</th>\n",
       "    </tr>\n",
       "  </thead>\n",
       "  <tbody>\n",
       "    <tr>\n",
       "      <th>age</th>\n",
       "      <td>1.000000</td>\n",
       "      <td>0.112300</td>\n",
       "      <td>0.000189</td>\n",
       "      <td>-0.005278</td>\n",
       "      <td>0.020169</td>\n",
       "      <td>-0.011425</td>\n",
       "      <td>-0.168700</td>\n",
       "      <td>-0.031418</td>\n",
       "      <td>0.034901</td>\n",
       "      <td>0.019102</td>\n",
       "      <td>...</td>\n",
       "      <td>0.186349</td>\n",
       "      <td>0.318436</td>\n",
       "      <td>-0.467799</td>\n",
       "      <td>0.231150</td>\n",
       "      <td>-0.094400</td>\n",
       "      <td>-0.101372</td>\n",
       "      <td>0.077761</td>\n",
       "      <td>-0.008071</td>\n",
       "      <td>0.062114</td>\n",
       "      <td>-0.038992</td>\n",
       "    </tr>\n",
       "    <tr>\n",
       "      <th>balance</th>\n",
       "      <td>0.112300</td>\n",
       "      <td>1.000000</td>\n",
       "      <td>0.022436</td>\n",
       "      <td>-0.013894</td>\n",
       "      <td>0.030805</td>\n",
       "      <td>-0.060954</td>\n",
       "      <td>-0.077092</td>\n",
       "      <td>-0.084589</td>\n",
       "      <td>0.081129</td>\n",
       "      <td>-0.004379</td>\n",
       "      <td>...</td>\n",
       "      <td>-0.017586</td>\n",
       "      <td>0.025431</td>\n",
       "      <td>-0.014994</td>\n",
       "      <td>-0.000673</td>\n",
       "      <td>-0.070609</td>\n",
       "      <td>0.069128</td>\n",
       "      <td>0.014596</td>\n",
       "      <td>0.001695</td>\n",
       "      <td>0.045603</td>\n",
       "      <td>-0.034524</td>\n",
       "    </tr>\n",
       "    <tr>\n",
       "      <th>duration</th>\n",
       "      <td>0.000189</td>\n",
       "      <td>0.022436</td>\n",
       "      <td>1.000000</td>\n",
       "      <td>-0.041557</td>\n",
       "      <td>-0.026716</td>\n",
       "      <td>-0.009760</td>\n",
       "      <td>0.035051</td>\n",
       "      <td>-0.001914</td>\n",
       "      <td>0.451919</td>\n",
       "      <td>-0.014868</td>\n",
       "      <td>...</td>\n",
       "      <td>0.021364</td>\n",
       "      <td>-0.036179</td>\n",
       "      <td>0.023847</td>\n",
       "      <td>0.013405</td>\n",
       "      <td>0.003820</td>\n",
       "      <td>-0.006813</td>\n",
       "      <td>-0.015887</td>\n",
       "      <td>-0.033966</td>\n",
       "      <td>-0.022578</td>\n",
       "      <td>0.042725</td>\n",
       "    </tr>\n",
       "    <tr>\n",
       "      <th>campaign</th>\n",
       "      <td>-0.005278</td>\n",
       "      <td>-0.013894</td>\n",
       "      <td>-0.041557</td>\n",
       "      <td>1.000000</td>\n",
       "      <td>-0.049699</td>\n",
       "      <td>0.030975</td>\n",
       "      <td>0.006660</td>\n",
       "      <td>0.034722</td>\n",
       "      <td>-0.128081</td>\n",
       "      <td>-0.026296</td>\n",
       "      <td>...</td>\n",
       "      <td>-0.006828</td>\n",
       "      <td>0.047722</td>\n",
       "      <td>-0.046165</td>\n",
       "      <td>0.019915</td>\n",
       "      <td>-0.013834</td>\n",
       "      <td>-0.005427</td>\n",
       "      <td>0.012976</td>\n",
       "      <td>-0.080188</td>\n",
       "      <td>-0.091807</td>\n",
       "      <td>0.128907</td>\n",
       "    </tr>\n",
       "    <tr>\n",
       "      <th>previous</th>\n",
       "      <td>0.020169</td>\n",
       "      <td>0.030805</td>\n",
       "      <td>-0.026716</td>\n",
       "      <td>-0.049699</td>\n",
       "      <td>1.000000</td>\n",
       "      <td>-0.035273</td>\n",
       "      <td>-0.000840</td>\n",
       "      <td>-0.022668</td>\n",
       "      <td>0.139867</td>\n",
       "      <td>0.122076</td>\n",
       "      <td>...</td>\n",
       "      <td>-0.026566</td>\n",
       "      <td>-0.005176</td>\n",
       "      <td>0.023817</td>\n",
       "      <td>-0.024852</td>\n",
       "      <td>-0.004620</td>\n",
       "      <td>0.028146</td>\n",
       "      <td>-0.011898</td>\n",
       "      <td>0.335870</td>\n",
       "      <td>0.325477</td>\n",
       "      <td>-0.496921</td>\n",
       "    </tr>\n",
       "    <tr>\n",
       "      <th>default_cat</th>\n",
       "      <td>-0.011425</td>\n",
       "      <td>-0.060954</td>\n",
       "      <td>-0.009760</td>\n",
       "      <td>0.030975</td>\n",
       "      <td>-0.035273</td>\n",
       "      <td>1.000000</td>\n",
       "      <td>0.011076</td>\n",
       "      <td>0.076434</td>\n",
       "      <td>-0.040680</td>\n",
       "      <td>-0.011290</td>\n",
       "      <td>...</td>\n",
       "      <td>0.019633</td>\n",
       "      <td>-0.006819</td>\n",
       "      <td>-0.006255</td>\n",
       "      <td>0.013858</td>\n",
       "      <td>-0.000618</td>\n",
       "      <td>-0.011768</td>\n",
       "      <td>0.005421</td>\n",
       "      <td>-0.024650</td>\n",
       "      <td>-0.040272</td>\n",
       "      <td>0.048403</td>\n",
       "    </tr>\n",
       "    <tr>\n",
       "      <th>housing_cat</th>\n",
       "      <td>-0.168700</td>\n",
       "      <td>-0.077092</td>\n",
       "      <td>0.035051</td>\n",
       "      <td>0.006660</td>\n",
       "      <td>-0.000840</td>\n",
       "      <td>0.011076</td>\n",
       "      <td>1.000000</td>\n",
       "      <td>0.076761</td>\n",
       "      <td>-0.203888</td>\n",
       "      <td>-0.029350</td>\n",
       "      <td>...</td>\n",
       "      <td>0.007430</td>\n",
       "      <td>0.036305</td>\n",
       "      <td>-0.043817</td>\n",
       "      <td>0.017002</td>\n",
       "      <td>0.118514</td>\n",
       "      <td>-0.114955</td>\n",
       "      <td>-0.053191</td>\n",
       "      <td>0.087741</td>\n",
       "      <td>-0.136299</td>\n",
       "      <td>0.031375</td>\n",
       "    </tr>\n",
       "    <tr>\n",
       "      <th>loan_cat</th>\n",
       "      <td>-0.031418</td>\n",
       "      <td>-0.084589</td>\n",
       "      <td>-0.001914</td>\n",
       "      <td>0.034722</td>\n",
       "      <td>-0.022668</td>\n",
       "      <td>0.076434</td>\n",
       "      <td>0.076761</td>\n",
       "      <td>1.000000</td>\n",
       "      <td>-0.110580</td>\n",
       "      <td>-0.012697</td>\n",
       "      <td>...</td>\n",
       "      <td>0.026463</td>\n",
       "      <td>0.044148</td>\n",
       "      <td>-0.065288</td>\n",
       "      <td>0.006854</td>\n",
       "      <td>0.079583</td>\n",
       "      <td>-0.067513</td>\n",
       "      <td>-0.050249</td>\n",
       "      <td>0.006264</td>\n",
       "      <td>-0.080370</td>\n",
       "      <td>0.053686</td>\n",
       "    </tr>\n",
       "    <tr>\n",
       "      <th>deposit_cat</th>\n",
       "      <td>0.034901</td>\n",
       "      <td>0.081129</td>\n",
       "      <td>0.451919</td>\n",
       "      <td>-0.128081</td>\n",
       "      <td>0.139867</td>\n",
       "      <td>-0.040680</td>\n",
       "      <td>-0.203888</td>\n",
       "      <td>-0.110580</td>\n",
       "      <td>1.000000</td>\n",
       "      <td>0.034457</td>\n",
       "      <td>...</td>\n",
       "      <td>0.005228</td>\n",
       "      <td>-0.092157</td>\n",
       "      <td>0.094632</td>\n",
       "      <td>-0.063002</td>\n",
       "      <td>-0.051952</td>\n",
       "      <td>0.094598</td>\n",
       "      <td>0.014355</td>\n",
       "      <td>0.020714</td>\n",
       "      <td>0.286642</td>\n",
       "      <td>-0.224785</td>\n",
       "    </tr>\n",
       "    <tr>\n",
       "      <th>recent_pdays</th>\n",
       "      <td>0.019102</td>\n",
       "      <td>-0.004379</td>\n",
       "      <td>-0.014868</td>\n",
       "      <td>-0.026296</td>\n",
       "      <td>0.122076</td>\n",
       "      <td>-0.011290</td>\n",
       "      <td>-0.029350</td>\n",
       "      <td>-0.012697</td>\n",
       "      <td>0.034457</td>\n",
       "      <td>1.000000</td>\n",
       "      <td>...</td>\n",
       "      <td>-0.020253</td>\n",
       "      <td>0.009583</td>\n",
       "      <td>0.003736</td>\n",
       "      <td>-0.007034</td>\n",
       "      <td>-0.017129</td>\n",
       "      <td>0.017346</td>\n",
       "      <td>0.013590</td>\n",
       "      <td>0.051422</td>\n",
       "      <td>0.119598</td>\n",
       "      <td>-0.126890</td>\n",
       "    </tr>\n",
       "    <tr>\n",
       "      <th>job_blue-collar</th>\n",
       "      <td>-0.066567</td>\n",
       "      <td>-0.046220</td>\n",
       "      <td>0.029986</td>\n",
       "      <td>0.005522</td>\n",
       "      <td>-0.039939</td>\n",
       "      <td>0.022779</td>\n",
       "      <td>0.189848</td>\n",
       "      <td>0.057956</td>\n",
       "      <td>-0.100840</td>\n",
       "      <td>-0.018514</td>\n",
       "      <td>...</td>\n",
       "      <td>-0.056240</td>\n",
       "      <td>0.109188</td>\n",
       "      <td>-0.077645</td>\n",
       "      <td>0.299737</td>\n",
       "      <td>0.076687</td>\n",
       "      <td>-0.298548</td>\n",
       "      <td>-0.000640</td>\n",
       "      <td>-0.018022</td>\n",
       "      <td>-0.077422</td>\n",
       "      <td>0.070330</td>\n",
       "    </tr>\n",
       "    <tr>\n",
       "      <th>job_entrepreneur</th>\n",
       "      <td>0.024176</td>\n",
       "      <td>0.005039</td>\n",
       "      <td>-0.000908</td>\n",
       "      <td>0.013883</td>\n",
       "      <td>-0.022470</td>\n",
       "      <td>0.022060</td>\n",
       "      <td>0.011492</td>\n",
       "      <td>0.042631</td>\n",
       "      <td>-0.034443</td>\n",
       "      <td>0.006251</td>\n",
       "      <td>...</td>\n",
       "      <td>0.006638</td>\n",
       "      <td>0.050746</td>\n",
       "      <td>-0.058665</td>\n",
       "      <td>-0.004788</td>\n",
       "      <td>-0.021132</td>\n",
       "      <td>0.026612</td>\n",
       "      <td>-0.001555</td>\n",
       "      <td>-0.001840</td>\n",
       "      <td>-0.035072</td>\n",
       "      <td>0.026966</td>\n",
       "    </tr>\n",
       "    <tr>\n",
       "      <th>job_other</th>\n",
       "      <td>0.296418</td>\n",
       "      <td>0.050744</td>\n",
       "      <td>0.010680</td>\n",
       "      <td>-0.050212</td>\n",
       "      <td>0.031191</td>\n",
       "      <td>-0.018130</td>\n",
       "      <td>-0.233309</td>\n",
       "      <td>-0.096196</td>\n",
       "      <td>0.144408</td>\n",
       "      <td>0.024356</td>\n",
       "      <td>...</td>\n",
       "      <td>0.032824</td>\n",
       "      <td>-0.030982</td>\n",
       "      <td>0.010413</td>\n",
       "      <td>0.114003</td>\n",
       "      <td>-0.020532</td>\n",
       "      <td>-0.110383</td>\n",
       "      <td>0.112986</td>\n",
       "      <td>-0.010865</td>\n",
       "      <td>0.099733</td>\n",
       "      <td>-0.064228</td>\n",
       "    </tr>\n",
       "    <tr>\n",
       "      <th>job_pink-collar</th>\n",
       "      <td>-0.027942</td>\n",
       "      <td>-0.041063</td>\n",
       "      <td>0.005345</td>\n",
       "      <td>0.011958</td>\n",
       "      <td>-0.028623</td>\n",
       "      <td>-0.007173</td>\n",
       "      <td>0.043884</td>\n",
       "      <td>0.014969</td>\n",
       "      <td>-0.051717</td>\n",
       "      <td>-0.001183</td>\n",
       "      <td>...</td>\n",
       "      <td>0.025640</td>\n",
       "      <td>0.007558</td>\n",
       "      <td>-0.025718</td>\n",
       "      <td>0.056150</td>\n",
       "      <td>0.137129</td>\n",
       "      <td>-0.184418</td>\n",
       "      <td>-0.004629</td>\n",
       "      <td>-0.010816</td>\n",
       "      <td>-0.030331</td>\n",
       "      <td>0.030459</td>\n",
       "    </tr>\n",
       "    <tr>\n",
       "      <th>job_self-employed</th>\n",
       "      <td>-0.023163</td>\n",
       "      <td>0.020264</td>\n",
       "      <td>0.013506</td>\n",
       "      <td>0.001776</td>\n",
       "      <td>-0.002338</td>\n",
       "      <td>0.007493</td>\n",
       "      <td>-0.016903</td>\n",
       "      <td>0.004299</td>\n",
       "      <td>-0.004707</td>\n",
       "      <td>-0.008226</td>\n",
       "      <td>...</td>\n",
       "      <td>-0.011849</td>\n",
       "      <td>-0.008164</td>\n",
       "      <td>0.016864</td>\n",
       "      <td>-0.037121</td>\n",
       "      <td>-0.060080</td>\n",
       "      <td>0.097929</td>\n",
       "      <td>-0.016336</td>\n",
       "      <td>-0.010039</td>\n",
       "      <td>-0.001399</td>\n",
       "      <td>0.008786</td>\n",
       "    </tr>\n",
       "    <tr>\n",
       "      <th>job_technician</th>\n",
       "      <td>-0.082716</td>\n",
       "      <td>0.003802</td>\n",
       "      <td>-0.010440</td>\n",
       "      <td>0.021738</td>\n",
       "      <td>0.002035</td>\n",
       "      <td>0.003109</td>\n",
       "      <td>0.006551</td>\n",
       "      <td>0.006864</td>\n",
       "      <td>-0.011557</td>\n",
       "      <td>-0.007412</td>\n",
       "      <td>...</td>\n",
       "      <td>-0.005434</td>\n",
       "      <td>-0.052492</td>\n",
       "      <td>0.059696</td>\n",
       "      <td>-0.144948</td>\n",
       "      <td>0.152542</td>\n",
       "      <td>-0.041988</td>\n",
       "      <td>-0.034276</td>\n",
       "      <td>0.005763</td>\n",
       "      <td>-0.014744</td>\n",
       "      <td>0.006279</td>\n",
       "    </tr>\n",
       "    <tr>\n",
       "      <th>job_white-collar</th>\n",
       "      <td>-0.080122</td>\n",
       "      <td>0.013780</td>\n",
       "      <td>-0.031980</td>\n",
       "      <td>0.001944</td>\n",
       "      <td>0.034929</td>\n",
       "      <td>-0.013425</td>\n",
       "      <td>-0.012111</td>\n",
       "      <td>-0.007871</td>\n",
       "      <td>0.031621</td>\n",
       "      <td>0.004516</td>\n",
       "      <td>...</td>\n",
       "      <td>0.010701</td>\n",
       "      <td>-0.043270</td>\n",
       "      <td>0.038752</td>\n",
       "      <td>-0.229245</td>\n",
       "      <td>-0.222261</td>\n",
       "      <td>0.422261</td>\n",
       "      <td>-0.045233</td>\n",
       "      <td>0.029387</td>\n",
       "      <td>0.033044</td>\n",
       "      <td>-0.046804</td>\n",
       "    </tr>\n",
       "    <tr>\n",
       "      <th>marital_divorced</th>\n",
       "      <td>0.186349</td>\n",
       "      <td>-0.017586</td>\n",
       "      <td>0.021364</td>\n",
       "      <td>-0.006828</td>\n",
       "      <td>-0.026566</td>\n",
       "      <td>0.019633</td>\n",
       "      <td>0.007430</td>\n",
       "      <td>0.026463</td>\n",
       "      <td>0.005228</td>\n",
       "      <td>-0.020253</td>\n",
       "      <td>...</td>\n",
       "      <td>1.000000</td>\n",
       "      <td>-0.415878</td>\n",
       "      <td>-0.245556</td>\n",
       "      <td>0.024821</td>\n",
       "      <td>0.009891</td>\n",
       "      <td>-0.024597</td>\n",
       "      <td>-0.008920</td>\n",
       "      <td>-0.026169</td>\n",
       "      <td>-0.018120</td>\n",
       "      <td>0.033445</td>\n",
       "    </tr>\n",
       "    <tr>\n",
       "      <th>marital_married</th>\n",
       "      <td>0.318436</td>\n",
       "      <td>0.025431</td>\n",
       "      <td>-0.036179</td>\n",
       "      <td>0.047722</td>\n",
       "      <td>-0.005176</td>\n",
       "      <td>-0.006819</td>\n",
       "      <td>0.036305</td>\n",
       "      <td>0.044148</td>\n",
       "      <td>-0.092157</td>\n",
       "      <td>0.009583</td>\n",
       "      <td>...</td>\n",
       "      <td>-0.415878</td>\n",
       "      <td>1.000000</td>\n",
       "      <td>-0.779455</td>\n",
       "      <td>0.130232</td>\n",
       "      <td>0.001536</td>\n",
       "      <td>-0.098449</td>\n",
       "      <td>0.005451</td>\n",
       "      <td>0.007682</td>\n",
       "      <td>-0.010063</td>\n",
       "      <td>0.001384</td>\n",
       "    </tr>\n",
       "    <tr>\n",
       "      <th>marital_single</th>\n",
       "      <td>-0.467799</td>\n",
       "      <td>-0.014994</td>\n",
       "      <td>0.023847</td>\n",
       "      <td>-0.046165</td>\n",
       "      <td>0.023817</td>\n",
       "      <td>-0.006255</td>\n",
       "      <td>-0.043817</td>\n",
       "      <td>-0.065288</td>\n",
       "      <td>0.094632</td>\n",
       "      <td>0.003736</td>\n",
       "      <td>...</td>\n",
       "      <td>-0.245556</td>\n",
       "      <td>-0.779455</td>\n",
       "      <td>1.000000</td>\n",
       "      <td>-0.155917</td>\n",
       "      <td>-0.008450</td>\n",
       "      <td>0.121884</td>\n",
       "      <td>0.000334</td>\n",
       "      <td>0.009838</td>\n",
       "      <td>0.023208</td>\n",
       "      <td>-0.024514</td>\n",
       "    </tr>\n",
       "    <tr>\n",
       "      <th>education_primary</th>\n",
       "      <td>0.231150</td>\n",
       "      <td>-0.000673</td>\n",
       "      <td>0.013405</td>\n",
       "      <td>0.019915</td>\n",
       "      <td>-0.024852</td>\n",
       "      <td>0.013858</td>\n",
       "      <td>0.017002</td>\n",
       "      <td>0.006854</td>\n",
       "      <td>-0.063002</td>\n",
       "      <td>-0.007034</td>\n",
       "      <td>...</td>\n",
       "      <td>0.024821</td>\n",
       "      <td>0.130232</td>\n",
       "      <td>-0.155917</td>\n",
       "      <td>1.000000</td>\n",
       "      <td>-0.386670</td>\n",
       "      <td>-0.276834</td>\n",
       "      <td>-0.085057</td>\n",
       "      <td>-0.026044</td>\n",
       "      <td>-0.049879</td>\n",
       "      <td>0.056477</td>\n",
       "    </tr>\n",
       "    <tr>\n",
       "      <th>education_secondary</th>\n",
       "      <td>-0.094400</td>\n",
       "      <td>-0.070609</td>\n",
       "      <td>0.003820</td>\n",
       "      <td>-0.013834</td>\n",
       "      <td>-0.004620</td>\n",
       "      <td>-0.000618</td>\n",
       "      <td>0.118514</td>\n",
       "      <td>0.079583</td>\n",
       "      <td>-0.051952</td>\n",
       "      <td>-0.017129</td>\n",
       "      <td>...</td>\n",
       "      <td>0.009891</td>\n",
       "      <td>0.001536</td>\n",
       "      <td>-0.008450</td>\n",
       "      <td>-0.386670</td>\n",
       "      <td>1.000000</td>\n",
       "      <td>-0.689501</td>\n",
       "      <td>-0.211849</td>\n",
       "      <td>0.010625</td>\n",
       "      <td>-0.029466</td>\n",
       "      <td>0.013238</td>\n",
       "    </tr>\n",
       "    <tr>\n",
       "      <th>education_tertiary</th>\n",
       "      <td>-0.101372</td>\n",
       "      <td>0.069128</td>\n",
       "      <td>-0.006813</td>\n",
       "      <td>-0.005427</td>\n",
       "      <td>0.028146</td>\n",
       "      <td>-0.011768</td>\n",
       "      <td>-0.114955</td>\n",
       "      <td>-0.067513</td>\n",
       "      <td>0.094598</td>\n",
       "      <td>0.017346</td>\n",
       "      <td>...</td>\n",
       "      <td>-0.024597</td>\n",
       "      <td>-0.098449</td>\n",
       "      <td>0.121884</td>\n",
       "      <td>-0.276834</td>\n",
       "      <td>-0.689501</td>\n",
       "      <td>1.000000</td>\n",
       "      <td>-0.151672</td>\n",
       "      <td>0.012265</td>\n",
       "      <td>0.059518</td>\n",
       "      <td>-0.052836</td>\n",
       "    </tr>\n",
       "    <tr>\n",
       "      <th>education_unknown</th>\n",
       "      <td>0.077761</td>\n",
       "      <td>0.014596</td>\n",
       "      <td>-0.015887</td>\n",
       "      <td>0.012976</td>\n",
       "      <td>-0.011898</td>\n",
       "      <td>0.005421</td>\n",
       "      <td>-0.053191</td>\n",
       "      <td>-0.050249</td>\n",
       "      <td>0.014355</td>\n",
       "      <td>0.013590</td>\n",
       "      <td>...</td>\n",
       "      <td>-0.008920</td>\n",
       "      <td>0.005451</td>\n",
       "      <td>0.000334</td>\n",
       "      <td>-0.085057</td>\n",
       "      <td>-0.211849</td>\n",
       "      <td>-0.151672</td>\n",
       "      <td>1.000000</td>\n",
       "      <td>-0.010658</td>\n",
       "      <td>0.018158</td>\n",
       "      <td>-0.004978</td>\n",
       "    </tr>\n",
       "    <tr>\n",
       "      <th>poutcome_failure</th>\n",
       "      <td>-0.008071</td>\n",
       "      <td>0.001695</td>\n",
       "      <td>-0.033966</td>\n",
       "      <td>-0.080188</td>\n",
       "      <td>0.335870</td>\n",
       "      <td>-0.024650</td>\n",
       "      <td>0.087741</td>\n",
       "      <td>0.006264</td>\n",
       "      <td>0.020714</td>\n",
       "      <td>0.051422</td>\n",
       "      <td>...</td>\n",
       "      <td>-0.026169</td>\n",
       "      <td>0.007682</td>\n",
       "      <td>0.009838</td>\n",
       "      <td>-0.026044</td>\n",
       "      <td>0.010625</td>\n",
       "      <td>0.012265</td>\n",
       "      <td>-0.010658</td>\n",
       "      <td>1.000000</td>\n",
       "      <td>-0.114542</td>\n",
       "      <td>-0.690332</td>\n",
       "    </tr>\n",
       "    <tr>\n",
       "      <th>poutcome_success</th>\n",
       "      <td>0.062114</td>\n",
       "      <td>0.045603</td>\n",
       "      <td>-0.022578</td>\n",
       "      <td>-0.091807</td>\n",
       "      <td>0.325477</td>\n",
       "      <td>-0.040272</td>\n",
       "      <td>-0.136299</td>\n",
       "      <td>-0.080370</td>\n",
       "      <td>0.286642</td>\n",
       "      <td>0.119598</td>\n",
       "      <td>...</td>\n",
       "      <td>-0.018120</td>\n",
       "      <td>-0.010063</td>\n",
       "      <td>0.023208</td>\n",
       "      <td>-0.049879</td>\n",
       "      <td>-0.029466</td>\n",
       "      <td>0.059518</td>\n",
       "      <td>0.018158</td>\n",
       "      <td>-0.114542</td>\n",
       "      <td>1.000000</td>\n",
       "      <td>-0.639659</td>\n",
       "    </tr>\n",
       "    <tr>\n",
       "      <th>poutcome_unknown</th>\n",
       "      <td>-0.038992</td>\n",
       "      <td>-0.034524</td>\n",
       "      <td>0.042725</td>\n",
       "      <td>0.128907</td>\n",
       "      <td>-0.496921</td>\n",
       "      <td>0.048403</td>\n",
       "      <td>0.031375</td>\n",
       "      <td>0.053686</td>\n",
       "      <td>-0.224785</td>\n",
       "      <td>-0.126890</td>\n",
       "      <td>...</td>\n",
       "      <td>0.033445</td>\n",
       "      <td>0.001384</td>\n",
       "      <td>-0.024514</td>\n",
       "      <td>0.056477</td>\n",
       "      <td>0.013238</td>\n",
       "      <td>-0.052836</td>\n",
       "      <td>-0.004978</td>\n",
       "      <td>-0.690332</td>\n",
       "      <td>-0.639659</td>\n",
       "      <td>1.000000</td>\n",
       "    </tr>\n",
       "  </tbody>\n",
       "</table>\n",
       "<p>27 rows × 27 columns</p>\n",
       "</div>"
      ],
      "text/plain": [
       "                          age   balance  duration  campaign  previous  \\\n",
       "age                  1.000000  0.112300  0.000189 -0.005278  0.020169   \n",
       "balance              0.112300  1.000000  0.022436 -0.013894  0.030805   \n",
       "duration             0.000189  0.022436  1.000000 -0.041557 -0.026716   \n",
       "campaign            -0.005278 -0.013894 -0.041557  1.000000 -0.049699   \n",
       "previous             0.020169  0.030805 -0.026716 -0.049699  1.000000   \n",
       "default_cat         -0.011425 -0.060954 -0.009760  0.030975 -0.035273   \n",
       "housing_cat         -0.168700 -0.077092  0.035051  0.006660 -0.000840   \n",
       "loan_cat            -0.031418 -0.084589 -0.001914  0.034722 -0.022668   \n",
       "deposit_cat          0.034901  0.081129  0.451919 -0.128081  0.139867   \n",
       "recent_pdays         0.019102 -0.004379 -0.014868 -0.026296  0.122076   \n",
       "job_blue-collar     -0.066567 -0.046220  0.029986  0.005522 -0.039939   \n",
       "job_entrepreneur     0.024176  0.005039 -0.000908  0.013883 -0.022470   \n",
       "job_other            0.296418  0.050744  0.010680 -0.050212  0.031191   \n",
       "job_pink-collar     -0.027942 -0.041063  0.005345  0.011958 -0.028623   \n",
       "job_self-employed   -0.023163  0.020264  0.013506  0.001776 -0.002338   \n",
       "job_technician      -0.082716  0.003802 -0.010440  0.021738  0.002035   \n",
       "job_white-collar    -0.080122  0.013780 -0.031980  0.001944  0.034929   \n",
       "marital_divorced     0.186349 -0.017586  0.021364 -0.006828 -0.026566   \n",
       "marital_married      0.318436  0.025431 -0.036179  0.047722 -0.005176   \n",
       "marital_single      -0.467799 -0.014994  0.023847 -0.046165  0.023817   \n",
       "education_primary    0.231150 -0.000673  0.013405  0.019915 -0.024852   \n",
       "education_secondary -0.094400 -0.070609  0.003820 -0.013834 -0.004620   \n",
       "education_tertiary  -0.101372  0.069128 -0.006813 -0.005427  0.028146   \n",
       "education_unknown    0.077761  0.014596 -0.015887  0.012976 -0.011898   \n",
       "poutcome_failure    -0.008071  0.001695 -0.033966 -0.080188  0.335870   \n",
       "poutcome_success     0.062114  0.045603 -0.022578 -0.091807  0.325477   \n",
       "poutcome_unknown    -0.038992 -0.034524  0.042725  0.128907 -0.496921   \n",
       "\n",
       "                     default_cat  housing_cat  loan_cat  deposit_cat  \\\n",
       "age                    -0.011425    -0.168700 -0.031418     0.034901   \n",
       "balance                -0.060954    -0.077092 -0.084589     0.081129   \n",
       "duration               -0.009760     0.035051 -0.001914     0.451919   \n",
       "campaign                0.030975     0.006660  0.034722    -0.128081   \n",
       "previous               -0.035273    -0.000840 -0.022668     0.139867   \n",
       "default_cat             1.000000     0.011076  0.076434    -0.040680   \n",
       "housing_cat             0.011076     1.000000  0.076761    -0.203888   \n",
       "loan_cat                0.076434     0.076761  1.000000    -0.110580   \n",
       "deposit_cat            -0.040680    -0.203888 -0.110580     1.000000   \n",
       "recent_pdays           -0.011290    -0.029350 -0.012697     0.034457   \n",
       "job_blue-collar         0.022779     0.189848  0.057956    -0.100840   \n",
       "job_entrepreneur        0.022060     0.011492  0.042631    -0.034443   \n",
       "job_other              -0.018130    -0.233309 -0.096196     0.144408   \n",
       "job_pink-collar        -0.007173     0.043884  0.014969    -0.051717   \n",
       "job_self-employed       0.007493    -0.016903  0.004299    -0.004707   \n",
       "job_technician          0.003109     0.006551  0.006864    -0.011557   \n",
       "job_white-collar       -0.013425    -0.012111 -0.007871     0.031621   \n",
       "marital_divorced        0.019633     0.007430  0.026463     0.005228   \n",
       "marital_married        -0.006819     0.036305  0.044148    -0.092157   \n",
       "marital_single         -0.006255    -0.043817 -0.065288     0.094632   \n",
       "education_primary       0.013858     0.017002  0.006854    -0.063002   \n",
       "education_secondary    -0.000618     0.118514  0.079583    -0.051952   \n",
       "education_tertiary     -0.011768    -0.114955 -0.067513     0.094598   \n",
       "education_unknown       0.005421    -0.053191 -0.050249     0.014355   \n",
       "poutcome_failure       -0.024650     0.087741  0.006264     0.020714   \n",
       "poutcome_success       -0.040272    -0.136299 -0.080370     0.286642   \n",
       "poutcome_unknown        0.048403     0.031375  0.053686    -0.224785   \n",
       "\n",
       "                     recent_pdays  ...  marital_divorced  marital_married  \\\n",
       "age                      0.019102  ...          0.186349         0.318436   \n",
       "balance                 -0.004379  ...         -0.017586         0.025431   \n",
       "duration                -0.014868  ...          0.021364        -0.036179   \n",
       "campaign                -0.026296  ...         -0.006828         0.047722   \n",
       "previous                 0.122076  ...         -0.026566        -0.005176   \n",
       "default_cat             -0.011290  ...          0.019633        -0.006819   \n",
       "housing_cat             -0.029350  ...          0.007430         0.036305   \n",
       "loan_cat                -0.012697  ...          0.026463         0.044148   \n",
       "deposit_cat              0.034457  ...          0.005228        -0.092157   \n",
       "recent_pdays             1.000000  ...         -0.020253         0.009583   \n",
       "job_blue-collar         -0.018514  ...         -0.056240         0.109188   \n",
       "job_entrepreneur         0.006251  ...          0.006638         0.050746   \n",
       "job_other                0.024356  ...          0.032824        -0.030982   \n",
       "job_pink-collar         -0.001183  ...          0.025640         0.007558   \n",
       "job_self-employed       -0.008226  ...         -0.011849        -0.008164   \n",
       "job_technician          -0.007412  ...         -0.005434        -0.052492   \n",
       "job_white-collar         0.004516  ...          0.010701        -0.043270   \n",
       "marital_divorced        -0.020253  ...          1.000000        -0.415878   \n",
       "marital_married          0.009583  ...         -0.415878         1.000000   \n",
       "marital_single           0.003736  ...         -0.245556        -0.779455   \n",
       "education_primary       -0.007034  ...          0.024821         0.130232   \n",
       "education_secondary     -0.017129  ...          0.009891         0.001536   \n",
       "education_tertiary       0.017346  ...         -0.024597        -0.098449   \n",
       "education_unknown        0.013590  ...         -0.008920         0.005451   \n",
       "poutcome_failure         0.051422  ...         -0.026169         0.007682   \n",
       "poutcome_success         0.119598  ...         -0.018120        -0.010063   \n",
       "poutcome_unknown        -0.126890  ...          0.033445         0.001384   \n",
       "\n",
       "                     marital_single  education_primary  education_secondary  \\\n",
       "age                       -0.467799           0.231150            -0.094400   \n",
       "balance                   -0.014994          -0.000673            -0.070609   \n",
       "duration                   0.023847           0.013405             0.003820   \n",
       "campaign                  -0.046165           0.019915            -0.013834   \n",
       "previous                   0.023817          -0.024852            -0.004620   \n",
       "default_cat               -0.006255           0.013858            -0.000618   \n",
       "housing_cat               -0.043817           0.017002             0.118514   \n",
       "loan_cat                  -0.065288           0.006854             0.079583   \n",
       "deposit_cat                0.094632          -0.063002            -0.051952   \n",
       "recent_pdays               0.003736          -0.007034            -0.017129   \n",
       "job_blue-collar           -0.077645           0.299737             0.076687   \n",
       "job_entrepreneur          -0.058665          -0.004788            -0.021132   \n",
       "job_other                  0.010413           0.114003            -0.020532   \n",
       "job_pink-collar           -0.025718           0.056150             0.137129   \n",
       "job_self-employed          0.016864          -0.037121            -0.060080   \n",
       "job_technician             0.059696          -0.144948             0.152542   \n",
       "job_white-collar           0.038752          -0.229245            -0.222261   \n",
       "marital_divorced          -0.245556           0.024821             0.009891   \n",
       "marital_married           -0.779455           0.130232             0.001536   \n",
       "marital_single             1.000000          -0.155917            -0.008450   \n",
       "education_primary         -0.155917           1.000000            -0.386670   \n",
       "education_secondary       -0.008450          -0.386670             1.000000   \n",
       "education_tertiary         0.121884          -0.276834            -0.689501   \n",
       "education_unknown          0.000334          -0.085057            -0.211849   \n",
       "poutcome_failure           0.009838          -0.026044             0.010625   \n",
       "poutcome_success           0.023208          -0.049879            -0.029466   \n",
       "poutcome_unknown          -0.024514           0.056477             0.013238   \n",
       "\n",
       "                     education_tertiary  education_unknown  poutcome_failure  \\\n",
       "age                           -0.101372           0.077761         -0.008071   \n",
       "balance                        0.069128           0.014596          0.001695   \n",
       "duration                      -0.006813          -0.015887         -0.033966   \n",
       "campaign                      -0.005427           0.012976         -0.080188   \n",
       "previous                       0.028146          -0.011898          0.335870   \n",
       "default_cat                   -0.011768           0.005421         -0.024650   \n",
       "housing_cat                   -0.114955          -0.053191          0.087741   \n",
       "loan_cat                      -0.067513          -0.050249          0.006264   \n",
       "deposit_cat                    0.094598           0.014355          0.020714   \n",
       "recent_pdays                   0.017346           0.013590          0.051422   \n",
       "job_blue-collar               -0.298548          -0.000640         -0.018022   \n",
       "job_entrepreneur               0.026612          -0.001555         -0.001840   \n",
       "job_other                     -0.110383           0.112986         -0.010865   \n",
       "job_pink-collar               -0.184418          -0.004629         -0.010816   \n",
       "job_self-employed              0.097929          -0.016336         -0.010039   \n",
       "job_technician                -0.041988          -0.034276          0.005763   \n",
       "job_white-collar               0.422261          -0.045233          0.029387   \n",
       "marital_divorced              -0.024597          -0.008920         -0.026169   \n",
       "marital_married               -0.098449           0.005451          0.007682   \n",
       "marital_single                 0.121884           0.000334          0.009838   \n",
       "education_primary             -0.276834          -0.085057         -0.026044   \n",
       "education_secondary           -0.689501          -0.211849          0.010625   \n",
       "education_tertiary             1.000000          -0.151672          0.012265   \n",
       "education_unknown             -0.151672           1.000000         -0.010658   \n",
       "poutcome_failure               0.012265          -0.010658          1.000000   \n",
       "poutcome_success               0.059518           0.018158         -0.114542   \n",
       "poutcome_unknown              -0.052836          -0.004978         -0.690332   \n",
       "\n",
       "                     poutcome_success  poutcome_unknown  \n",
       "age                          0.062114         -0.038992  \n",
       "balance                      0.045603         -0.034524  \n",
       "duration                    -0.022578          0.042725  \n",
       "campaign                    -0.091807          0.128907  \n",
       "previous                     0.325477         -0.496921  \n",
       "default_cat                 -0.040272          0.048403  \n",
       "housing_cat                 -0.136299          0.031375  \n",
       "loan_cat                    -0.080370          0.053686  \n",
       "deposit_cat                  0.286642         -0.224785  \n",
       "recent_pdays                 0.119598         -0.126890  \n",
       "job_blue-collar             -0.077422          0.070330  \n",
       "job_entrepreneur            -0.035072          0.026966  \n",
       "job_other                    0.099733         -0.064228  \n",
       "job_pink-collar             -0.030331          0.030459  \n",
       "job_self-employed           -0.001399          0.008786  \n",
       "job_technician              -0.014744          0.006279  \n",
       "job_white-collar             0.033044         -0.046804  \n",
       "marital_divorced            -0.018120          0.033445  \n",
       "marital_married             -0.010063          0.001384  \n",
       "marital_single               0.023208         -0.024514  \n",
       "education_primary           -0.049879          0.056477  \n",
       "education_secondary         -0.029466          0.013238  \n",
       "education_tertiary           0.059518         -0.052836  \n",
       "education_unknown            0.018158         -0.004978  \n",
       "poutcome_failure            -0.114542         -0.690332  \n",
       "poutcome_success             1.000000         -0.639659  \n",
       "poutcome_unknown            -0.639659          1.000000  \n",
       "\n",
       "[27 rows x 27 columns]"
      ]
     },
     "execution_count": 37,
     "metadata": {},
     "output_type": "execute_result"
    }
   ],
   "source": [
    "# The Correltion matrix\n",
    "corr = bankcl.corr()\n",
    "corr"
   ]
  },
  {
   "cell_type": "code",
   "execution_count": 38,
   "metadata": {
    "colab": {
     "base_uri": "https://localhost:8080/",
     "height": 854
    },
    "id": "ZcX7MjytcePd",
    "outputId": "7a11a740-a97f-42cd-fea6-18b525172688",
    "tags": []
   },
   "outputs": [
    {
     "data": {
      "text/plain": [
       "Text(0.5, 1.0, 'Heatmap of Correlation Matrix')"
      ]
     },
     "execution_count": 38,
     "metadata": {},
     "output_type": "execute_result"
    },
    {
     "data": {
      "image/png": "[encoded data removed]",
      "text/plain": [
       "<Figure size 1000x1000 with 2 Axes>"
      ]
     },
     "metadata": {},
     "output_type": "display_data"
    }
   ],
   "source": [
    "# Heatmap\n",
    "plt.figure(figsize = (10,10))\n",
    "cmap = sns.diverging_palette(220, 10, as_cmap=True)\n",
    "sns.heatmap(corr, xticklabels=corr.columns.values, yticklabels=corr.columns.values, cmap=cmap, vmax=.3, center=0, square=True, linewidths=.5, cbar_kws={\"shrink\": .82})\n",
    "plt.title('Heatmap of Correlation Matrix')"
   ]
  },
  {
   "cell_type": "code",
   "execution_count": 39,
   "metadata": {
    "colab": {
     "base_uri": "https://localhost:8080/",
     "height": 864
    },
    "id": "IzkOVajEceSB",
    "outputId": "4621a35c-1c3d-4e0c-e203-fa642f202999",
    "tags": []
   },
   "outputs": [
    {
     "data": {
      "text/html": [
       "<div>\n",
       "<style scoped>\n",
       "    .dataframe tbody tr th:only-of-type {\n",
       "        vertical-align: middle;\n",
       "    }\n",
       "\n",
       "    .dataframe tbody tr th {\n",
       "        vertical-align: top;\n",
       "    }\n",
       "\n",
       "    .dataframe thead th {\n",
       "        text-align: right;\n",
       "    }\n",
       "</style>\n",
       "<table border=\"1\" class=\"dataframe\">\n",
       "  <thead>\n",
       "    <tr style=\"text-align: right;\">\n",
       "      <th></th>\n",
       "      <th>deposit_cat</th>\n",
       "    </tr>\n",
       "  </thead>\n",
       "  <tbody>\n",
       "    <tr>\n",
       "      <th>duration</th>\n",
       "      <td>0.451919</td>\n",
       "    </tr>\n",
       "    <tr>\n",
       "      <th>poutcome_success</th>\n",
       "      <td>0.286642</td>\n",
       "    </tr>\n",
       "    <tr>\n",
       "      <th>job_other</th>\n",
       "      <td>0.144408</td>\n",
       "    </tr>\n",
       "    <tr>\n",
       "      <th>previous</th>\n",
       "      <td>0.139867</td>\n",
       "    </tr>\n",
       "    <tr>\n",
       "      <th>marital_single</th>\n",
       "      <td>0.094632</td>\n",
       "    </tr>\n",
       "    <tr>\n",
       "      <th>education_tertiary</th>\n",
       "      <td>0.094598</td>\n",
       "    </tr>\n",
       "    <tr>\n",
       "      <th>balance</th>\n",
       "      <td>0.081129</td>\n",
       "    </tr>\n",
       "    <tr>\n",
       "      <th>age</th>\n",
       "      <td>0.034901</td>\n",
       "    </tr>\n",
       "    <tr>\n",
       "      <th>recent_pdays</th>\n",
       "      <td>0.034457</td>\n",
       "    </tr>\n",
       "    <tr>\n",
       "      <th>job_white-collar</th>\n",
       "      <td>0.031621</td>\n",
       "    </tr>\n",
       "    <tr>\n",
       "      <th>poutcome_failure</th>\n",
       "      <td>0.020714</td>\n",
       "    </tr>\n",
       "    <tr>\n",
       "      <th>education_unknown</th>\n",
       "      <td>0.014355</td>\n",
       "    </tr>\n",
       "    <tr>\n",
       "      <th>marital_divorced</th>\n",
       "      <td>0.005228</td>\n",
       "    </tr>\n",
       "    <tr>\n",
       "      <th>job_self-employed</th>\n",
       "      <td>-0.004707</td>\n",
       "    </tr>\n",
       "    <tr>\n",
       "      <th>job_technician</th>\n",
       "      <td>-0.011557</td>\n",
       "    </tr>\n",
       "    <tr>\n",
       "      <th>job_entrepreneur</th>\n",
       "      <td>-0.034443</td>\n",
       "    </tr>\n",
       "    <tr>\n",
       "      <th>default_cat</th>\n",
       "      <td>-0.040680</td>\n",
       "    </tr>\n",
       "    <tr>\n",
       "      <th>job_pink-collar</th>\n",
       "      <td>-0.051717</td>\n",
       "    </tr>\n",
       "    <tr>\n",
       "      <th>education_secondary</th>\n",
       "      <td>-0.051952</td>\n",
       "    </tr>\n",
       "    <tr>\n",
       "      <th>education_primary</th>\n",
       "      <td>-0.063002</td>\n",
       "    </tr>\n",
       "    <tr>\n",
       "      <th>marital_married</th>\n",
       "      <td>-0.092157</td>\n",
       "    </tr>\n",
       "    <tr>\n",
       "      <th>job_blue-collar</th>\n",
       "      <td>-0.100840</td>\n",
       "    </tr>\n",
       "    <tr>\n",
       "      <th>loan_cat</th>\n",
       "      <td>-0.110580</td>\n",
       "    </tr>\n",
       "    <tr>\n",
       "      <th>campaign</th>\n",
       "      <td>-0.128081</td>\n",
       "    </tr>\n",
       "    <tr>\n",
       "      <th>housing_cat</th>\n",
       "      <td>-0.203888</td>\n",
       "    </tr>\n",
       "    <tr>\n",
       "      <th>poutcome_unknown</th>\n",
       "      <td>-0.224785</td>\n",
       "    </tr>\n",
       "  </tbody>\n",
       "</table>\n",
       "</div>"
      ],
      "text/plain": [
       "                     deposit_cat\n",
       "duration                0.451919\n",
       "poutcome_success        0.286642\n",
       "job_other               0.144408\n",
       "previous                0.139867\n",
       "marital_single          0.094632\n",
       "education_tertiary      0.094598\n",
       "balance                 0.081129\n",
       "age                     0.034901\n",
       "recent_pdays            0.034457\n",
       "job_white-collar        0.031621\n",
       "poutcome_failure        0.020714\n",
       "education_unknown       0.014355\n",
       "marital_divorced        0.005228\n",
       "job_self-employed      -0.004707\n",
       "job_technician         -0.011557\n",
       "job_entrepreneur       -0.034443\n",
       "default_cat            -0.040680\n",
       "job_pink-collar        -0.051717\n",
       "education_secondary    -0.051952\n",
       "education_primary      -0.063002\n",
       "marital_married        -0.092157\n",
       "job_blue-collar        -0.100840\n",
       "loan_cat               -0.110580\n",
       "campaign               -0.128081\n",
       "housing_cat            -0.203888\n",
       "poutcome_unknown       -0.224785"
      ]
     },
     "execution_count": 39,
     "metadata": {},
     "output_type": "execute_result"
    }
   ],
   "source": [
    "# Extract the deposte_cat column (the dependent variable)\n",
    "corr_deposite = pd.DataFrame(corr['deposit_cat'].drop('deposit_cat'))\n",
    "corr_deposite.sort_values(by = 'deposit_cat', ascending = False)"
   ]
  },
  {
   "cell_type": "code",
   "execution_count": 40,
   "metadata": {
    "id": "6CYDTafucsqs",
    "tags": []
   },
   "outputs": [],
   "source": [
    "# Train-Test split: 20% test data\n",
    "data_drop_deposite = bankcl.drop('deposit_cat', axis=1)\n",
    "label = bankcl.deposit_cat\n",
    "data_train, data_test, label_train, label_test = train_test_split(data_drop_deposite, label, test_size = 0.2, random_state = 50)"
   ]
  },
  {
   "cell_type": "code",
   "execution_count": 41,
   "metadata": {
    "colab": {
     "base_uri": "https://localhost:8080/"
    },
    "id": "oF8JFOEtcst1",
    "outputId": "5c981a65-c8a2-4594-8ba8-de294fbfc229",
    "tags": []
   },
   "outputs": [
    {
     "name": "stdout",
     "output_type": "stream",
     "text": [
      "Training score:  0.7285250307985217\n",
      "Testing score:  0.7268248992386923\n"
     ]
    }
   ],
   "source": [
    "# Decision tree with depth = 2\n",
    "dt2 = tree.DecisionTreeClassifier(random_state=1, max_depth=2)\n",
    "dt2.fit(data_train, label_train)\n",
    "dt2_score_train = dt2.score(data_train, label_train)\n",
    "print(\"Training score: \",dt2_score_train)\n",
    "dt2_score_test = dt2.score(data_test, label_test)\n",
    "print(\"Testing score: \",dt2_score_test)"
   ]
  },
  {
   "cell_type": "code",
   "execution_count": 42,
   "metadata": {
    "colab": {
     "base_uri": "https://localhost:8080/"
    },
    "id": "OQSMl66xcswU",
    "outputId": "4743e97e-7b70-4a04-df45-607f4a07296b",
    "tags": []
   },
   "outputs": [
    {
     "name": "stdout",
     "output_type": "stream",
     "text": [
      "Training score:  0.770411020271027\n",
      "Testing score:  0.7572772055530677\n"
     ]
    }
   ],
   "source": [
    "# Decision tree with depth = 3\n",
    "dt3 = tree.DecisionTreeClassifier(random_state=1, max_depth=3)\n",
    "dt3.fit(data_train, label_train)\n",
    "dt3_score_train = dt3.score(data_train, label_train)\n",
    "print(\"Training score: \",dt3_score_train)\n",
    "dt3_score_test = dt3.score(data_test, label_test)\n",
    "print(\"Testing score: \",dt3_score_test)"
   ]
  },
  {
   "cell_type": "code",
   "execution_count": 43,
   "metadata": {
    "colab": {
     "base_uri": "https://localhost:8080/"
    },
    "id": "46ecByDUcsyu",
    "outputId": "65e0b67b-7900-44dc-8cd6-50bfc124d3cb",
    "tags": []
   },
   "outputs": [
    {
     "name": "stdout",
     "output_type": "stream",
     "text": [
      "Training score:  0.7885541494008288\n",
      "Testing score:  0.774294670846395\n"
     ]
    }
   ],
   "source": [
    "# Decision tree with depth = 4\n",
    "dt4 = tree.DecisionTreeClassifier(random_state=1, max_depth=4)\n",
    "dt4.fit(data_train, label_train)\n",
    "dt4_score_train = dt4.score(data_train, label_train)\n",
    "print(\"Training score: \",dt4_score_train)\n",
    "dt4_score_test = dt4.score(data_test, label_test)\n",
    "print(\"Testing score: \",dt4_score_test)"
   ]
  },
  {
   "cell_type": "code",
   "execution_count": 44,
   "metadata": {
    "colab": {
     "base_uri": "https://localhost:8080/"
    },
    "id": "B8jNh3nJcs1i",
    "outputId": "242aafb6-6a6e-42f9-d5d5-b6e9b2d95ace",
    "tags": []
   },
   "outputs": [
    {
     "name": "stdout",
     "output_type": "stream",
     "text": [
      "Training score:  0.8080412140217269\n",
      "Testing score:  0.7796686072548141\n"
     ]
    }
   ],
   "source": [
    "# Decision tree with depth = 6\n",
    "dt6 = tree.DecisionTreeClassifier(random_state=1, max_depth=6)\n",
    "dt6.fit(data_train, label_train)\n",
    "dt6_score_train = dt6.score(data_train, label_train)\n",
    "print(\"Training score: \",dt6_score_train)\n",
    "dt6_score_test = dt6.score(data_test, label_test)\n",
    "print(\"Testing score: \",dt6_score_test)"
   ]
  },
  {
   "cell_type": "code",
   "execution_count": 45,
   "metadata": {
    "colab": {
     "base_uri": "https://localhost:8080/"
    },
    "id": "jUykI95hcs3o",
    "outputId": "f33fadba-06b6-424e-b568-1b71eeb49c82",
    "tags": []
   },
   "outputs": [
    {
     "name": "stdout",
     "output_type": "stream",
     "text": [
      "Training score:  1.0\n",
      "Testing score:  0.7371249440214958\n"
     ]
    }
   ],
   "source": [
    "# Decision tree: To the full depth\n",
    "dt1 = tree.DecisionTreeClassifier()\n",
    "dt1.fit(data_train, label_train)\n",
    "dt1_score_train = dt1.score(data_train, label_train)\n",
    "print(\"Training score: \", dt1_score_train)\n",
    "dt1_score_test = dt1.score(data_test, label_test)\n",
    "print(\"Testing score: \", dt1_score_test)"
   ]
  },
  {
   "cell_type": "code",
   "execution_count": 46,
   "metadata": {
    "colab": {
     "base_uri": "https://localhost:8080/"
    },
    "id": "HqLZlVCKceUm",
    "outputId": "4d47b3ab-4d22-4088-82d9-dee92c8c2a1a",
    "tags": []
   },
   "outputs": [
    {
     "name": "stdout",
     "output_type": "stream",
     "text": [
      "depth      Training score       Testing score       \n",
      "-----      --------------       -------------       \n",
      "2        0.7285250307985217   0.7268248992386923\n",
      "3         0.770411020271027   0.7572772055530677\n",
      "4        0.7885541494008288    0.774294670846395\n",
      "6        0.8080412140217269   0.7796686072548141\n",
      "max                     1.0   0.7371249440214958\n"
     ]
    }
   ],
   "source": [
    "print('{:10} {:20} {:20}'.format('depth', 'Training score','Testing score'))\n",
    "print('{:10} {:20} {:20}'.format('-----', '--------------','-------------'))\n",
    "print('{:1} {:>25} {:>20}'.format(2, dt2_score_train, dt2_score_test))\n",
    "print('{:1} {:>25} {:>20}'.format(3, dt3_score_train, dt3_score_test))\n",
    "print('{:1} {:>25} {:>20}'.format(4, dt4_score_train, dt4_score_test))\n",
    "print('{:1} {:>25} {:>20}'.format(6, dt6_score_train, dt6_score_test))\n",
    "print('{:1} {:>23} {:>20}'.format(\"max\", dt1_score_train, dt1_score_test))"
   ]
  },
  {
   "cell_type": "code",
   "execution_count": 47,
   "metadata": {
    "id": "hscECCDadA2D",
    "tags": []
   },
   "outputs": [],
   "source": [
    "# Let's generate the decision tree for depth = 2\n",
    "# Create a feature vector\n",
    "features = bankcl.columns.tolist()\n",
    "\n",
    "# Uncomment below to generate the digraph Tree.\n",
    "#tree.export_graphviz(dt2, out_file='tree_depth_2.dot', feature_names=features)"
   ]
  },
  {
   "cell_type": "code",
   "execution_count": 48,
   "metadata": {
    "colab": {
     "base_uri": "https://localhost:8080/"
    },
    "id": "fuGdYRMtdA8x",
    "outputId": "9acb4141-2d83-48e8-c97b-045d948cc3cc",
    "tags": []
   },
   "outputs": [
    {
     "data": {
      "text/plain": [
       "array([0, 1], dtype=int64)"
      ]
     },
     "execution_count": 48,
     "metadata": {},
     "output_type": "execute_result"
    }
   ],
   "source": [
    "# Two classes: 0 = not signed up,  1 = signed up\n",
    "dt2.classes_"
   ]
  },
  {
   "cell_type": "code",
   "execution_count": 49,
   "metadata": {
    "colab": {
     "base_uri": "https://localhost:8080/"
    },
    "id": "UqzedZaYdA_W",
    "outputId": "e34d9d12-fa4b-4b5f-ab7d-ffa937979dff",
    "tags": []
   },
   "outputs": [
    {
     "data": {
      "text/plain": [
       "['age',\n",
       " 'balance',\n",
       " 'duration',\n",
       " 'campaign',\n",
       " 'previous',\n",
       " 'default_cat',\n",
       " 'housing_cat',\n",
       " 'loan_cat',\n",
       " 'recent_pdays',\n",
       " 'job_blue-collar',\n",
       " 'job_entrepreneur',\n",
       " 'job_other',\n",
       " 'job_pink-collar',\n",
       " 'job_self-employed',\n",
       " 'job_technician',\n",
       " 'job_white-collar',\n",
       " 'marital_divorced',\n",
       " 'marital_married',\n",
       " 'marital_single',\n",
       " 'education_primary',\n",
       " 'education_secondary',\n",
       " 'education_tertiary',\n",
       " 'education_unknown',\n",
       " 'poutcome_failure',\n",
       " 'poutcome_success',\n",
       " 'poutcome_unknown']"
      ]
     },
     "execution_count": 49,
     "metadata": {},
     "output_type": "execute_result"
    }
   ],
   "source": [
    "# Create a feature vector\n",
    "features = data_drop_deposite.columns.tolist()\n",
    "\n",
    "features"
   ]
  },
  {
   "cell_type": "code",
   "execution_count": 50,
   "metadata": {
    "colab": {
     "base_uri": "https://localhost:8080/"
    },
    "id": "0EBnscaTdBBw",
    "outputId": "45fee556-a999-4b51-d6b3-24c5a1334661",
    "tags": []
   },
   "outputs": [
    {
     "name": "stdout",
     "output_type": "stream",
     "text": [
      "age................. 0.0\n",
      "balance............. 0.0\n",
      "duration............ 0.849306123902405\n",
      "campaign............ 0.0\n",
      "previous............ 0.0\n",
      "default_cat......... 0.0\n",
      "housing_cat......... 0.0\n",
      "loan_cat............ 0.0\n",
      "recent_pdays........ 0.0\n",
      "job_blue-collar..... 0.0\n",
      "job_entrepreneur.... 0.0\n",
      "job_other........... 0.0\n",
      "job_pink-collar..... 0.0\n",
      "job_self-employed... 0.0\n",
      "job_technician...... 0.0\n",
      "job_white-collar.... 0.0\n",
      "marital_divorced.... 0.0\n",
      "marital_married..... 0.0\n",
      "marital_single...... 0.0\n",
      "education_primary... 0.0\n",
      "education_secondary. 0.0\n",
      "education_tertiary.. 0.0\n",
      "education_unknown... 0.0\n",
      "poutcome_failure.... 0.0\n",
      "poutcome_success.... 0.15069387609759496\n",
      "poutcome_unknown.... 0.0\n"
     ]
    }
   ],
   "source": [
    "# Investigate most important features with depth =2\n",
    "\n",
    "dt2 = tree.DecisionTreeClassifier(random_state=1, max_depth=2)\n",
    "\n",
    "# Fit the decision tree classifier\n",
    "dt2.fit(data_train, label_train)\n",
    "\n",
    "fi = dt2.feature_importances_\n",
    "\n",
    "l = len(features)\n",
    "for i in range(0,len(features)):\n",
    "    print('{:.<20} {:3}'.format(features[i],fi[i]))"
   ]
  },
  {
   "cell_type": "code",
   "execution_count": 51,
   "metadata": {
    "colab": {
     "base_uri": "https://localhost:8080/"
    },
    "id": "XD03T_sodBEe",
    "outputId": "c1817871-2762-4ae5-c861-29fdf4bba146",
    "tags": []
   },
   "outputs": [
    {
     "name": "stdout",
     "output_type": "stream",
     "text": [
      "Mean duration   :  371.99381831213043\n",
      "Maximun duration:  3881\n",
      "Minimum duration:  2\n"
     ]
    }
   ],
   "source": [
    "# According to feature importance results, most importtant feature is the \"Duration\"\n",
    "# Let's calculte statistics on Duration\n",
    "print(\"Mean duration   : \", data_drop_deposite.duration.mean())\n",
    "print(\"Maximun duration: \", data_drop_deposite.duration.max())\n",
    "print(\"Minimum duration: \", data_drop_deposite.duration.min())"
   ]
  },
  {
   "cell_type": "code",
   "execution_count": 54,
   "metadata": {
    "colab": {
     "base_uri": "https://localhost:8080/"
    },
    "id": "sBV-b4zXdT7-",
    "outputId": "e68389d6-cf76-48fd-90b0-8ce59e226763",
    "tags": []
   },
   "outputs": [
    {
     "data": {
      "text/plain": [
       "age                          46\n",
       "balance                    3354\n",
       "duration                    522\n",
       "campaign                      1\n",
       "previous                      1\n",
       "default_cat                   0\n",
       "housing_cat                   1\n",
       "loan_cat                      0\n",
       "recent_pdays           0.005747\n",
       "job_blue-collar           False\n",
       "job_entrepreneur          False\n",
       "job_other                  True\n",
       "job_pink-collar           False\n",
       "job_self-employed         False\n",
       "job_technician            False\n",
       "job_white-collar          False\n",
       "marital_divorced           True\n",
       "marital_married           False\n",
       "marital_single            False\n",
       "education_primary         False\n",
       "education_secondary        True\n",
       "education_tertiary        False\n",
       "education_unknown         False\n",
       "poutcome_failure          False\n",
       "poutcome_success           True\n",
       "poutcome_unknown          False\n",
       "Name: 985, dtype: object"
      ]
     },
     "execution_count": 54,
     "metadata": {},
     "output_type": "execute_result"
    }
   ],
   "source": [
    "# Get a row with poutcome_success = 1\n",
    "#bank_with_dummies[(bank_with_dummies.poutcome_success == 1)]\n",
    "data_drop_deposite.iloc[985]"
   ]
  },
  {
   "cell_type": "code",
   "execution_count": 55,
   "metadata": {
    "colab": {
     "base_uri": "https://localhost:8080/"
    },
    "id": "ausD6OdVdUBo",
    "outputId": "c042cf37-c012-447e-d407-6a2a56282349",
    "tags": []
   },
   "outputs": [
    {
     "name": "stdout",
     "output_type": "stream",
     "text": [
      "\n",
      "Accuracy score: \n",
      "0.7268248992386923\n",
      "\n",
      "Area Under Curve: \n",
      "0.7880265888143609\n"
     ]
    }
   ],
   "source": [
    "# Make predictions on the test set\n",
    "preds = dt2.predict(data_test)\n",
    "\n",
    "# Calculate accuracy\n",
    "print(\"\\nAccuracy score: \\n{}\".format(metrics.accuracy_score(label_test, preds)))\n",
    "\n",
    "# Make predictions on the test set using predict_proba\n",
    "probs = dt2.predict_proba(data_test)[:,1]\n",
    "\n",
    "# Calculate the AUC metric\n",
    "print(\"\\nArea Under Curve: \\n{}\".format(metrics.roc_auc_score(label_test, probs)))"
   ]
  },
  {
   "cell_type": "code",
   "execution_count": null,
   "metadata": {
    "id": "JZYk29evdUER"
   },
   "outputs": [],
   "source": []
  },
  {
   "cell_type": "code",
   "execution_count": null,
   "metadata": {
    "id": "V5RDDei2dUGk"
   },
   "outputs": [],
   "source": []
  }
 ],
 "metadata": {
  "colab": {
   "provenance": []
  },
  "kernelspec": {
   "display_name": "Python 3 (ipykernel)",
   "language": "python",
   "name": "python3"
  },
  "language_info": {
   "codemirror_mode": {
    "name": "ipython",
    "version": 3
   },
   "file_extension": ".py",
   "mimetype": "text/x-python",
   "name": "python",
   "nbconvert_exporter": "python",
   "pygments_lexer": "ipython3",
   "version": "3.11.5"
  }
 },
 "nbformat": 4,
 "nbformat_minor": 4
}
